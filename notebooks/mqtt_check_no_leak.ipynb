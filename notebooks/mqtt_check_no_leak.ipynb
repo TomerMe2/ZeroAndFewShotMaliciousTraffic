{
 "cells": [
  {
   "cell_type": "code",
   "execution_count": 1,
   "metadata": {},
   "outputs": [],
   "source": [
    "import sys\n",
    "sys.path.insert(0, '../')"
   ]
  },
  {
   "cell_type": "code",
   "execution_count": 2,
   "metadata": {},
   "outputs": [],
   "source": [
    "from sklearn.ensemble import RandomForestClassifier\n",
    "from sklearn.metrics import accuracy_score\n",
    "import numpy as np\n",
    "from sklearn.dummy import DummyClassifier\n",
    "\n",
    "from datasets.mqtt_dataset import MqttDataset"
   ]
  },
  {
   "cell_type": "code",
   "execution_count": 3,
   "metadata": {},
   "outputs": [],
   "source": [
    "train_dataset = MqttDataset(\"../raw_data/mqtt_fullrows.csv\", is_train=True, include_malicious_traffic=False, lbl_is_src_ip=True)\n",
    "test_dataset = MqttDataset(\"../raw_data/mqtt_fullrows.csv\", is_train=False, include_malicious_traffic=False, lbl_is_src_ip=True)"
   ]
  },
  {
   "cell_type": "code",
   "execution_count": 4,
   "metadata": {},
   "outputs": [],
   "source": [
    "X_train, y_train = train_dataset.X, train_dataset.y\n",
    "X_test, y_test = test_dataset.X, test_dataset.y"
   ]
  },
  {
   "cell_type": "code",
   "execution_count": 11,
   "metadata": {},
   "outputs": [
    {
     "name": "stdout",
     "output_type": "stream",
     "text": [
      "0.02209911841791756\n"
     ]
    }
   ],
   "source": [
    "clf = RandomForestClassifier(n_jobs=80, random_state=42)\n",
    "clf.fit(X_train, y_train)\n",
    "y_pred = clf.predict(X_test)\n",
    "print(accuracy_score(y_test, y_pred))"
   ]
  },
  {
   "cell_type": "code",
   "execution_count": 12,
   "metadata": {},
   "outputs": [
    {
     "data": {
      "text/plain": [
       "[0.9816594919123302, 0.009445663967266408, 0.008894844120403332, 0.0, 0.0]"
      ]
     },
     "execution_count": 12,
     "metadata": {},
     "output_type": "execute_result"
    }
   ],
   "source": [
    "sorted(clf.feature_importances_.tolist(), reverse=True)[:5]"
   ]
  },
  {
   "cell_type": "code",
   "execution_count": 13,
   "metadata": {},
   "outputs": [
    {
     "data": {
      "text/plain": [
       "array([8], dtype=int64)"
      ]
     },
     "execution_count": 13,
     "metadata": {},
     "output_type": "execute_result"
    }
   ],
   "source": [
    "np.where(clf.feature_importances_ > 0.1)[0]"
   ]
  },
  {
   "cell_type": "code",
   "execution_count": 10,
   "metadata": {},
   "outputs": [
    {
     "data": {
      "text/plain": [
       "'tcp_flag_res'"
      ]
     },
     "execution_count": 10,
     "metadata": {},
     "output_type": "execute_result"
    }
   ],
   "source": [
    "train_dataset.clms[8]"
   ]
  },
  {
   "cell_type": "code",
   "execution_count": 14,
   "metadata": {},
   "outputs": [
    {
     "data": {
      "text/plain": [
       "((134301, 24), (33576, 24))"
      ]
     },
     "execution_count": 14,
     "metadata": {},
     "output_type": "execute_result"
    }
   ],
   "source": [
    "X_train_no_leak = np.hstack([X_train[:, :7], X_train[:, 10:]])\n",
    "X_test_no_leak = np.hstack([X_test[:, :7], X_test[:, 10:]])\n",
    "\n",
    "X_train_no_leak.shape, X_test_no_leak.shape"
   ]
  },
  {
   "cell_type": "code",
   "execution_count": 15,
   "metadata": {},
   "outputs": [
    {
     "name": "stdout",
     "output_type": "stream",
     "text": [
      "0.09634858232070527\n"
     ]
    }
   ],
   "source": [
    "clf_no_leak = RandomForestClassifier(n_jobs=80, random_state=42)\n",
    "clf_no_leak.fit(X_train_no_leak, y_train)\n",
    "y_pred = clf_no_leak.predict(X_test_no_leak)\n",
    "print(accuracy_score(y_test, y_pred))"
   ]
  },
  {
   "cell_type": "code",
   "execution_count": 16,
   "metadata": {},
   "outputs": [
    {
     "data": {
      "text/plain": [
       "[0.5039918004084324, 0.49600819959156767, 0.0, 0.0, 0.0]"
      ]
     },
     "execution_count": 16,
     "metadata": {},
     "output_type": "execute_result"
    }
   ],
   "source": [
    "sorted(clf_no_leak.feature_importances_.tolist(), reverse=True)[:5]"
   ]
  },
  {
   "cell_type": "code",
   "execution_count": 21,
   "metadata": {},
   "outputs": [
    {
     "data": {
      "text/plain": [
       "array([ 5, 17], dtype=int64)"
      ]
     },
     "execution_count": 21,
     "metadata": {},
     "output_type": "execute_result"
    }
   ],
   "source": [
    "np.where(clf_no_leak.feature_importances_ > 0.1)[0]"
   ]
  },
  {
   "cell_type": "code",
   "execution_count": 17,
   "metadata": {},
   "outputs": [
    {
     "data": {
      "text/plain": [
       "Index(['ip_flag_rb', 'tcp_flag_fin'], dtype='object')"
      ]
     },
     "execution_count": 17,
     "metadata": {},
     "output_type": "execute_result"
    }
   ],
   "source": [
    "might_leak = np.where(clf_no_leak.feature_importances_ > 0.05)[0]\n",
    "train_dataset.clms[might_leak]"
   ]
  },
  {
   "cell_type": "code",
   "execution_count": 22,
   "metadata": {},
   "outputs": [
    {
     "data": {
      "text/plain": [
       "((134301, 22), (33576, 22))"
      ]
     },
     "execution_count": 22,
     "metadata": {},
     "output_type": "execute_result"
    }
   ],
   "source": [
    "X_train_no_leak = np.hstack([X_train_no_leak[:, :5], X_train_no_leak[:, 6:]])\n",
    "X_test_no_leak = np.hstack([X_test_no_leak[:, :5], X_test_no_leak[:, 6:]])\n",
    "X_train_no_leak = np.hstack([X_train_no_leak[:, :17], X_train_no_leak[:, 18:]])\n",
    "X_test_no_leak = np.hstack([X_test_no_leak[:, :17], X_test_no_leak[:, 18:]])\n",
    "\n",
    "X_train_no_leak.shape, X_test_no_leak.shape"
   ]
  },
  {
   "cell_type": "code",
   "execution_count": 23,
   "metadata": {},
   "outputs": [
    {
     "name": "stdout",
     "output_type": "stream",
     "text": [
      "0.09634858232070527\n"
     ]
    }
   ],
   "source": [
    "clf_no_leak = RandomForestClassifier(n_jobs=80, random_state=42)\n",
    "clf_no_leak.fit(X_train_no_leak, y_train)\n",
    "y_pred = clf_no_leak.predict(X_test_no_leak)\n",
    "print(accuracy_score(y_test, y_pred))"
   ]
  },
  {
   "cell_type": "code",
   "execution_count": 24,
   "metadata": {},
   "outputs": [
    {
     "data": {
      "text/plain": [
       "[1.0, 0.0, 0.0, 0.0, 0.0]"
      ]
     },
     "execution_count": 24,
     "metadata": {},
     "output_type": "execute_result"
    }
   ],
   "source": [
    "sorted(clf_no_leak.feature_importances_.tolist(), reverse=True)[:5]"
   ]
  },
  {
   "cell_type": "code",
   "execution_count": 25,
   "metadata": {},
   "outputs": [
    {
     "data": {
      "text/plain": [
       "array([16], dtype=int64)"
      ]
     },
     "execution_count": 25,
     "metadata": {},
     "output_type": "execute_result"
    }
   ],
   "source": [
    "np.where(clf_no_leak.feature_importances_ > 0.1)[0]"
   ]
  },
  {
   "cell_type": "code",
   "execution_count": 26,
   "metadata": {},
   "outputs": [
    {
     "data": {
      "text/plain": [
       "Index(['tcp_flag_syn'], dtype='object')"
      ]
     },
     "execution_count": 26,
     "metadata": {},
     "output_type": "execute_result"
    }
   ],
   "source": [
    "might_leak = np.where(clf_no_leak.feature_importances_ > 0.05)[0]\n",
    "train_dataset.clms[might_leak]"
   ]
  },
  {
   "cell_type": "code",
   "execution_count": 27,
   "metadata": {},
   "outputs": [],
   "source": [
    "X_train_no_leak = np.hstack([X_train_no_leak[:, :16], X_train_no_leak[:, 17:]])\n",
    "X_test_no_leak = np.hstack([X_test_no_leak[:, :16], X_test_no_leak[:, 17:]])"
   ]
  },
  {
   "cell_type": "code",
   "execution_count": 28,
   "metadata": {},
   "outputs": [
    {
     "name": "stdout",
     "output_type": "stream",
     "text": [
      "0.08077197998570407\n"
     ]
    }
   ],
   "source": [
    "clf_no_leak = RandomForestClassifier(n_jobs=80, random_state=42)\n",
    "clf_no_leak.fit(X_train_no_leak, y_train)\n",
    "y_pred = clf_no_leak.predict(X_test_no_leak)\n",
    "print(accuracy_score(y_test, y_pred))"
   ]
  },
  {
   "cell_type": "code",
   "execution_count": 29,
   "metadata": {},
   "outputs": [
    {
     "data": {
      "text/plain": [
       "[0.0, 0.0, 0.0, 0.0, 0.0]"
      ]
     },
     "execution_count": 29,
     "metadata": {},
     "output_type": "execute_result"
    }
   ],
   "source": [
    "sorted(clf_no_leak.feature_importances_.tolist(), reverse=True)[:5]"
   ]
  },
  {
   "cell_type": "code",
   "execution_count": 30,
   "metadata": {},
   "outputs": [
    {
     "name": "stdout",
     "output_type": "stream",
     "text": [
      "0.08077197998570407\n"
     ]
    }
   ],
   "source": [
    "dummy = DummyClassifier()\n",
    "dummy.fit(X_train_no_leak, y_train)\n",
    "y_pred = dummy.predict(X_test_no_leak)\n",
    "print(accuracy_score(y_test, y_pred))"
   ]
  }
 ],
 "metadata": {
  "kernelspec": {
   "display_name": ".venv",
   "language": "python",
   "name": "python3"
  },
  "language_info": {
   "codemirror_mode": {
    "name": "ipython",
    "version": 3
   },
   "file_extension": ".py",
   "mimetype": "text/x-python",
   "name": "python",
   "nbconvert_exporter": "python",
   "pygments_lexer": "ipython3",
   "version": "3.10.11"
  },
  "orig_nbformat": 4
 },
 "nbformat": 4,
 "nbformat_minor": 2
}
