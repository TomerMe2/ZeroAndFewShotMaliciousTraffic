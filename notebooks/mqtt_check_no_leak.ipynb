{
 "cells": [
  {
   "cell_type": "code",
   "execution_count": 37,
   "metadata": {},
   "outputs": [],
   "source": [
    "import sys\n",
    "sys.path.insert(0, '../')"
   ]
  },
  {
   "cell_type": "code",
   "execution_count": 38,
   "metadata": {},
   "outputs": [],
   "source": [
    "from sklearn.ensemble import RandomForestClassifier\n",
    "from sklearn.metrics import accuracy_score\n",
    "import numpy as np\n",
    "from sklearn.dummy import DummyClassifier\n",
    "\n",
    "from datasets.mqtt_dataset import MqttDataset"
   ]
  },
  {
   "cell_type": "code",
   "execution_count": 55,
   "metadata": {},
   "outputs": [],
   "source": [
    "train_dataset = MqttDataset(\"../raw_data/mqtt_fullrows.csv\", is_train=True, include_malicious_traffic=False, lbl_is_src_ip=True)\n",
    "test_dataset = MqttDataset(\"../raw_data/mqtt_fullrows.csv\", is_train=False, include_malicious_traffic=False, lbl_is_src_ip=True)"
   ]
  },
  {
   "cell_type": "code",
   "execution_count": 56,
   "metadata": {},
   "outputs": [],
   "source": [
    "X_train, y_train = train_dataset.X, train_dataset.y\n",
    "X_test, y_test = test_dataset.X, test_dataset.y"
   ]
  },
  {
   "cell_type": "code",
   "execution_count": 54,
   "metadata": {},
   "outputs": [],
   "source": [
    "def anlyse(X_train, y_train, X_test, y_test, importanceTH=0.1):\n",
    "    clf = RandomForestClassifier(n_jobs=80, random_state=42)\n",
    "    clf.fit(X_train, y_train)\n",
    "    y_pred = clf.predict(X_test)\n",
    "    print(f'accuracy_score :{accuracy_score(y_test, y_pred)}')\n",
    "\n",
    "    print('feature importance :', sorted(clf.feature_importances_.tolist(), reverse=True)[:5])\n",
    "    print('importent features :', np.where(clf.feature_importances_ > 0.1)[0])\n",
    "\n",
    "    dummy(X_train, y_train, X_test, y_test)\n",
    "\n",
    "    for col in np.where(clf.feature_importances_ > 0.1)[0]:\n",
    "        print(train_dataset.clms[col])\n",
    "\n",
    "\n",
    "def dummy(X_train, y_train, X_test, y_test):\n",
    "    dummy = DummyClassifier()\n",
    "    dummy.fit(X_train, y_train)\n",
    "    y_pred = dummy.predict(X_test)\n",
    "    print(f'dummy accurcy : {accuracy_score(y_test, y_pred)}')\n",
    "\n",
    "\n",
    "\n",
    "\n",
    "def dropColums(X_train, X_test, colums):\n",
    "    for col in colums:\n",
    "        X_train = np.hstack([X_train[:, :col], X_train[:, (col+1):]])\n",
    "        X_test = np.hstack([X_test[:, :col], X_test[:, (col+1):]])\n",
    "\n",
    "    return X_train, X_test\n",
    "\n",
    "        "
   ]
  },
  {
   "cell_type": "code",
   "execution_count": 57,
   "metadata": {},
   "outputs": [
    {
     "name": "stdout",
     "output_type": "stream",
     "text": [
      "accuracy_score :0.022710155842651063\n",
      "feature importance : [0.9796852061621744, 0.010528674091017405, 0.009786119746808182, 0.0, 0.0]\n",
      "importent features : [8]\n",
      "dummy accurcy : 0.08049939169225422\n",
      "tcp_flag_res\n"
     ]
    }
   ],
   "source": [
    "anlyse(X_train, y_train, X_test, y_test)"
   ]
  },
  {
   "cell_type": "code",
   "execution_count": 58,
   "metadata": {},
   "outputs": [],
   "source": [
    "X_train, X_test = dropColums(X_train, X_test, [8])"
   ]
  },
  {
   "cell_type": "code",
   "execution_count": 59,
   "metadata": {},
   "outputs": [
    {
     "name": "stdout",
     "output_type": "stream",
     "text": [
      "accuracy_score :0.09579398644342738\n",
      "feature importance : [0.5472798139058487, 0.4527201860941513, 0.0, 0.0, 0.0]\n",
      "importent features : [ 5 19]\n",
      "dummy accurcy : 0.08049939169225422\n",
      "ip_flag_rb\n",
      "mqtt_messagelength\n"
     ]
    }
   ],
   "source": [
    "anlyse(X_train, y_train, X_test, y_test)"
   ]
  },
  {
   "cell_type": "code",
   "execution_count": 60,
   "metadata": {},
   "outputs": [],
   "source": [
    "X_train, X_test = dropColums(X_train, X_test, [5])"
   ]
  },
  {
   "cell_type": "code",
   "execution_count": 61,
   "metadata": {},
   "outputs": [
    {
     "name": "stdout",
     "output_type": "stream",
     "text": [
      "accuracy_score :0.09579398644342738\n",
      "feature importance : [1.0, 0.0, 0.0, 0.0, 0.0]\n",
      "importent features : [18]\n",
      "dummy accurcy : 0.08049939169225422\n",
      "mqtt_messagetype\n"
     ]
    }
   ],
   "source": [
    "anlyse(X_train, y_train, X_test, y_test)"
   ]
  },
  {
   "cell_type": "code",
   "execution_count": 62,
   "metadata": {},
   "outputs": [],
   "source": [
    "X_train, X_test = dropColums(X_train, X_test, [18])"
   ]
  },
  {
   "cell_type": "code",
   "execution_count": 64,
   "metadata": {},
   "outputs": [
    {
     "name": "stdout",
     "output_type": "stream",
     "text": [
      "accuracy_score :0.08049939169225422\n",
      "feature importance : [0.0, 0.0, 0.0, 0.0, 0.0]\n",
      "importent features : []\n",
      "dummy accurcy : 0.08049939169225422\n"
     ]
    }
   ],
   "source": [
    "anlyse(X_train, y_train, X_test, y_test)"
   ]
  }
 ],
 "metadata": {
  "kernelspec": {
   "display_name": ".venv",
   "language": "python",
   "name": "python3"
  },
  "language_info": {
   "codemirror_mode": {
    "name": "ipython",
    "version": 3
   },
   "file_extension": ".py",
   "mimetype": "text/x-python",
   "name": "python",
   "nbconvert_exporter": "python",
   "pygments_lexer": "ipython3",
   "version": "3.10.11"
  },
  "orig_nbformat": 4
 },
 "nbformat": 4,
 "nbformat_minor": 2
}
