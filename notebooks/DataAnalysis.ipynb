{
  "nbformat": 4,
  "nbformat_minor": 0,
  "metadata": {
    "colab": {
      "provenance": []
    },
    "kernelspec": {
      "name": "python3",
      "display_name": "Python 3"
    },
    "language_info": {
      "name": "python"
    }
  },
  "cells": [
    {
      "cell_type": "markdown",
      "source": [
        "# mini project -  methods for detecting attacks"
      ],
      "metadata": {
        "id": "fQ4uL7gYLE3c"
      }
    },
    {
      "cell_type": "markdown",
      "source": [
        "## enviroment setup"
      ],
      "metadata": {
        "id": "Fh6xsHFgLpP-"
      }
    },
    {
      "cell_type": "markdown",
      "source": [
        "## imports"
      ],
      "metadata": {
        "id": "fkbwkzEwLYTN"
      }
    },
    {
      "cell_type": "code",
      "execution_count": 1,
      "metadata": {
        "id": "IBW-3gvjK0E2"
      },
      "outputs": [],
      "source": [
        "from collections import Counter, OrderedDict\n",
        "\n",
        "import statistics\n",
        "\n",
        "import pandas as pd\n",
        "\n",
        "import numpy as np\n",
        "\n",
        "import matplotlib.pyplot as plt\n",
        "\n",
        "from sklearn.dummy import DummyClassifier\n",
        "from sklearn.model_selection import train_test_split\n",
        "from sklearn.metrics import accuracy_score\n",
        "\n",
        "from itertools import combinations\n",
        "\n",
        "import seaborn as sns\n",
        "\n",
        "from google.colab import drive"
      ]
    },
    {
      "cell_type": "markdown",
      "source": [
        "*verifying* GPU"
      ],
      "metadata": {
        "id": "ADsrAhXKiV3K"
      }
    },
    {
      "cell_type": "code",
      "source": [
        "print(tf.test.gpu_device_name())"
      ],
      "metadata": {
        "id": "yTS6pm-RiTaa"
      },
      "execution_count": null,
      "outputs": []
    },
    {
      "cell_type": "markdown",
      "source": [
        "## data loading"
      ],
      "metadata": {
        "id": "J8VeD8a0LbWd"
      }
    },
    {
      "cell_type": "code",
      "source": [
        "drive.mount('/content/drive')"
      ],
      "metadata": {
        "colab": {
          "base_uri": "https://localhost:8080/"
        },
        "id": "gmVUIVG0LeMH",
        "outputId": "af4b8f6a-72e2-431c-d79d-779d942cac9b"
      },
      "execution_count": 2,
      "outputs": [
        {
          "output_type": "stream",
          "name": "stdout",
          "text": [
            "Mounted at /content/drive\n"
          ]
        }
      ]
    },
    {
      "cell_type": "code",
      "source": [
        "data_all = pd.read_csv('/content/drive/MyDrive/' + 'IoT Network Intrusion Dataset' '.csv')"
      ],
      "metadata": {
        "id": "osxEMA4LNMiq"
      },
      "execution_count": 3,
      "outputs": []
    },
    {
      "cell_type": "code",
      "source": [
        "len(data_all)"
      ],
      "metadata": {
        "colab": {
          "base_uri": "https://localhost:8080/"
        },
        "id": "7ZGSPtJJDwNP",
        "outputId": "292e44f0-623a-4bc8-a588-1275f3b55751"
      },
      "execution_count": 4,
      "outputs": [
        {
          "output_type": "execute_result",
          "data": {
            "text/plain": [
              "625783"
            ]
          },
          "metadata": {},
          "execution_count": 4
        }
      ]
    },
    {
      "cell_type": "code",
      "source": [
        "data_all.head()"
      ],
      "metadata": {
        "colab": {
          "base_uri": "https://localhost:8080/",
          "height": 467
        },
        "id": "zNu-FUXtTIGS",
        "outputId": "567d0663-e8c8-4b8a-962d-ee4af77628f9"
      },
      "execution_count": null,
      "outputs": [
        {
          "output_type": "execute_result",
          "data": {
            "text/plain": [
              "                                     Flow_ID           Src_IP  Src_Port  \\\n",
              "0   192.168.0.13-192.168.0.16-10000-10101-17     192.168.0.13     10000   \n",
              "1    192.168.0.13-222.160.179.132-554-2179-6  222.160.179.132      2179   \n",
              "2     192.168.0.13-192.168.0.16-9020-52727-6     192.168.0.16     52727   \n",
              "3     192.168.0.13-192.168.0.16-9020-52964-6     192.168.0.16     52964   \n",
              "4  192.168.0.1-239.255.255.250-36763-1900-17      192.168.0.1     36763   \n",
              "\n",
              "            Dst_IP  Dst_Port  Protocol               Timestamp  Flow_Duration  \\\n",
              "0     192.168.0.16     10101        17  25/07/2019 03:25:53 AM             75   \n",
              "1     192.168.0.13       554         6  26/05/2019 10:11:06 PM           5310   \n",
              "2     192.168.0.13      9020         6  11/07/2019 01:24:48 AM            141   \n",
              "3     192.168.0.13      9020         6  04/09/2019 03:58:17 AM            151   \n",
              "4  239.255.255.250      1900        17  10/09/2019 01:41:18 AM            153   \n",
              "\n",
              "   Tot_Fwd_Pkts  Tot_Bwd_Pkts  ...  Active_Std  Active_Max  Active_Min  \\\n",
              "0             1             1  ...         0.0         0.0         0.0   \n",
              "1             1             2  ...         0.0         0.0         0.0   \n",
              "2             0             3  ...         0.0         0.0         0.0   \n",
              "3             0             2  ...         0.0         0.0         0.0   \n",
              "4             2             1  ...         0.0         0.0         0.0   \n",
              "\n",
              "   Idle_Mean     Idle_Std  Idle_Max  Idle_Min    Label    Cat  \\\n",
              "0       75.0     0.000000      75.0      75.0  Anomaly  Mirai   \n",
              "1     2655.0  2261.327486    4254.0    1056.0  Anomaly    DoS   \n",
              "2       70.5     0.707107      71.0      70.0  Anomaly   Scan   \n",
              "3      151.0     0.000000     151.0     151.0  Anomaly  Mirai   \n",
              "4       76.5     0.707107      77.0      76.0  Anomaly  Mirai   \n",
              "\n",
              "                 Sub_Cat  \n",
              "0      Mirai-Ackflooding  \n",
              "1        DoS-Synflooding  \n",
              "2           Scan Port OS  \n",
              "3  Mirai-Hostbruteforceg  \n",
              "4  Mirai-Hostbruteforceg  \n",
              "\n",
              "[5 rows x 86 columns]"
            ],
            "text/html": [
              "\n",
              "  <div id=\"df-0ffeb00b-74bc-49c5-9a90-2aa09f3390e8\">\n",
              "    <div class=\"colab-df-container\">\n",
              "      <div>\n",
              "<style scoped>\n",
              "    .dataframe tbody tr th:only-of-type {\n",
              "        vertical-align: middle;\n",
              "    }\n",
              "\n",
              "    .dataframe tbody tr th {\n",
              "        vertical-align: top;\n",
              "    }\n",
              "\n",
              "    .dataframe thead th {\n",
              "        text-align: right;\n",
              "    }\n",
              "</style>\n",
              "<table border=\"1\" class=\"dataframe\">\n",
              "  <thead>\n",
              "    <tr style=\"text-align: right;\">\n",
              "      <th></th>\n",
              "      <th>Flow_ID</th>\n",
              "      <th>Src_IP</th>\n",
              "      <th>Src_Port</th>\n",
              "      <th>Dst_IP</th>\n",
              "      <th>Dst_Port</th>\n",
              "      <th>Protocol</th>\n",
              "      <th>Timestamp</th>\n",
              "      <th>Flow_Duration</th>\n",
              "      <th>Tot_Fwd_Pkts</th>\n",
              "      <th>Tot_Bwd_Pkts</th>\n",
              "      <th>...</th>\n",
              "      <th>Active_Std</th>\n",
              "      <th>Active_Max</th>\n",
              "      <th>Active_Min</th>\n",
              "      <th>Idle_Mean</th>\n",
              "      <th>Idle_Std</th>\n",
              "      <th>Idle_Max</th>\n",
              "      <th>Idle_Min</th>\n",
              "      <th>Label</th>\n",
              "      <th>Cat</th>\n",
              "      <th>Sub_Cat</th>\n",
              "    </tr>\n",
              "  </thead>\n",
              "  <tbody>\n",
              "    <tr>\n",
              "      <th>0</th>\n",
              "      <td>192.168.0.13-192.168.0.16-10000-10101-17</td>\n",
              "      <td>192.168.0.13</td>\n",
              "      <td>10000</td>\n",
              "      <td>192.168.0.16</td>\n",
              "      <td>10101</td>\n",
              "      <td>17</td>\n",
              "      <td>25/07/2019 03:25:53 AM</td>\n",
              "      <td>75</td>\n",
              "      <td>1</td>\n",
              "      <td>1</td>\n",
              "      <td>...</td>\n",
              "      <td>0.0</td>\n",
              "      <td>0.0</td>\n",
              "      <td>0.0</td>\n",
              "      <td>75.0</td>\n",
              "      <td>0.000000</td>\n",
              "      <td>75.0</td>\n",
              "      <td>75.0</td>\n",
              "      <td>Anomaly</td>\n",
              "      <td>Mirai</td>\n",
              "      <td>Mirai-Ackflooding</td>\n",
              "    </tr>\n",
              "    <tr>\n",
              "      <th>1</th>\n",
              "      <td>192.168.0.13-222.160.179.132-554-2179-6</td>\n",
              "      <td>222.160.179.132</td>\n",
              "      <td>2179</td>\n",
              "      <td>192.168.0.13</td>\n",
              "      <td>554</td>\n",
              "      <td>6</td>\n",
              "      <td>26/05/2019 10:11:06 PM</td>\n",
              "      <td>5310</td>\n",
              "      <td>1</td>\n",
              "      <td>2</td>\n",
              "      <td>...</td>\n",
              "      <td>0.0</td>\n",
              "      <td>0.0</td>\n",
              "      <td>0.0</td>\n",
              "      <td>2655.0</td>\n",
              "      <td>2261.327486</td>\n",
              "      <td>4254.0</td>\n",
              "      <td>1056.0</td>\n",
              "      <td>Anomaly</td>\n",
              "      <td>DoS</td>\n",
              "      <td>DoS-Synflooding</td>\n",
              "    </tr>\n",
              "    <tr>\n",
              "      <th>2</th>\n",
              "      <td>192.168.0.13-192.168.0.16-9020-52727-6</td>\n",
              "      <td>192.168.0.16</td>\n",
              "      <td>52727</td>\n",
              "      <td>192.168.0.13</td>\n",
              "      <td>9020</td>\n",
              "      <td>6</td>\n",
              "      <td>11/07/2019 01:24:48 AM</td>\n",
              "      <td>141</td>\n",
              "      <td>0</td>\n",
              "      <td>3</td>\n",
              "      <td>...</td>\n",
              "      <td>0.0</td>\n",
              "      <td>0.0</td>\n",
              "      <td>0.0</td>\n",
              "      <td>70.5</td>\n",
              "      <td>0.707107</td>\n",
              "      <td>71.0</td>\n",
              "      <td>70.0</td>\n",
              "      <td>Anomaly</td>\n",
              "      <td>Scan</td>\n",
              "      <td>Scan Port OS</td>\n",
              "    </tr>\n",
              "    <tr>\n",
              "      <th>3</th>\n",
              "      <td>192.168.0.13-192.168.0.16-9020-52964-6</td>\n",
              "      <td>192.168.0.16</td>\n",
              "      <td>52964</td>\n",
              "      <td>192.168.0.13</td>\n",
              "      <td>9020</td>\n",
              "      <td>6</td>\n",
              "      <td>04/09/2019 03:58:17 AM</td>\n",
              "      <td>151</td>\n",
              "      <td>0</td>\n",
              "      <td>2</td>\n",
              "      <td>...</td>\n",
              "      <td>0.0</td>\n",
              "      <td>0.0</td>\n",
              "      <td>0.0</td>\n",
              "      <td>151.0</td>\n",
              "      <td>0.000000</td>\n",
              "      <td>151.0</td>\n",
              "      <td>151.0</td>\n",
              "      <td>Anomaly</td>\n",
              "      <td>Mirai</td>\n",
              "      <td>Mirai-Hostbruteforceg</td>\n",
              "    </tr>\n",
              "    <tr>\n",
              "      <th>4</th>\n",
              "      <td>192.168.0.1-239.255.255.250-36763-1900-17</td>\n",
              "      <td>192.168.0.1</td>\n",
              "      <td>36763</td>\n",
              "      <td>239.255.255.250</td>\n",
              "      <td>1900</td>\n",
              "      <td>17</td>\n",
              "      <td>10/09/2019 01:41:18 AM</td>\n",
              "      <td>153</td>\n",
              "      <td>2</td>\n",
              "      <td>1</td>\n",
              "      <td>...</td>\n",
              "      <td>0.0</td>\n",
              "      <td>0.0</td>\n",
              "      <td>0.0</td>\n",
              "      <td>76.5</td>\n",
              "      <td>0.707107</td>\n",
              "      <td>77.0</td>\n",
              "      <td>76.0</td>\n",
              "      <td>Anomaly</td>\n",
              "      <td>Mirai</td>\n",
              "      <td>Mirai-Hostbruteforceg</td>\n",
              "    </tr>\n",
              "  </tbody>\n",
              "</table>\n",
              "<p>5 rows × 86 columns</p>\n",
              "</div>\n",
              "      <button class=\"colab-df-convert\" onclick=\"convertToInteractive('df-0ffeb00b-74bc-49c5-9a90-2aa09f3390e8')\"\n",
              "              title=\"Convert this dataframe to an interactive table.\"\n",
              "              style=\"display:none;\">\n",
              "        \n",
              "  <svg xmlns=\"http://www.w3.org/2000/svg\" height=\"24px\"viewBox=\"0 0 24 24\"\n",
              "       width=\"24px\">\n",
              "    <path d=\"M0 0h24v24H0V0z\" fill=\"none\"/>\n",
              "    <path d=\"M18.56 5.44l.94 2.06.94-2.06 2.06-.94-2.06-.94-.94-2.06-.94 2.06-2.06.94zm-11 1L8.5 8.5l.94-2.06 2.06-.94-2.06-.94L8.5 2.5l-.94 2.06-2.06.94zm10 10l.94 2.06.94-2.06 2.06-.94-2.06-.94-.94-2.06-.94 2.06-2.06.94z\"/><path d=\"M17.41 7.96l-1.37-1.37c-.4-.4-.92-.59-1.43-.59-.52 0-1.04.2-1.43.59L10.3 9.45l-7.72 7.72c-.78.78-.78 2.05 0 2.83L4 21.41c.39.39.9.59 1.41.59.51 0 1.02-.2 1.41-.59l7.78-7.78 2.81-2.81c.8-.78.8-2.07 0-2.86zM5.41 20L4 18.59l7.72-7.72 1.47 1.35L5.41 20z\"/>\n",
              "  </svg>\n",
              "      </button>\n",
              "      \n",
              "  <style>\n",
              "    .colab-df-container {\n",
              "      display:flex;\n",
              "      flex-wrap:wrap;\n",
              "      gap: 12px;\n",
              "    }\n",
              "\n",
              "    .colab-df-convert {\n",
              "      background-color: #E8F0FE;\n",
              "      border: none;\n",
              "      border-radius: 50%;\n",
              "      cursor: pointer;\n",
              "      display: none;\n",
              "      fill: #1967D2;\n",
              "      height: 32px;\n",
              "      padding: 0 0 0 0;\n",
              "      width: 32px;\n",
              "    }\n",
              "\n",
              "    .colab-df-convert:hover {\n",
              "      background-color: #E2EBFA;\n",
              "      box-shadow: 0px 1px 2px rgba(60, 64, 67, 0.3), 0px 1px 3px 1px rgba(60, 64, 67, 0.15);\n",
              "      fill: #174EA6;\n",
              "    }\n",
              "\n",
              "    [theme=dark] .colab-df-convert {\n",
              "      background-color: #3B4455;\n",
              "      fill: #D2E3FC;\n",
              "    }\n",
              "\n",
              "    [theme=dark] .colab-df-convert:hover {\n",
              "      background-color: #434B5C;\n",
              "      box-shadow: 0px 1px 3px 1px rgba(0, 0, 0, 0.15);\n",
              "      filter: drop-shadow(0px 1px 2px rgba(0, 0, 0, 0.3));\n",
              "      fill: #FFFFFF;\n",
              "    }\n",
              "  </style>\n",
              "\n",
              "      <script>\n",
              "        const buttonEl =\n",
              "          document.querySelector('#df-0ffeb00b-74bc-49c5-9a90-2aa09f3390e8 button.colab-df-convert');\n",
              "        buttonEl.style.display =\n",
              "          google.colab.kernel.accessAllowed ? 'block' : 'none';\n",
              "\n",
              "        async function convertToInteractive(key) {\n",
              "          const element = document.querySelector('#df-0ffeb00b-74bc-49c5-9a90-2aa09f3390e8');\n",
              "          const dataTable =\n",
              "            await google.colab.kernel.invokeFunction('convertToInteractive',\n",
              "                                                     [key], {});\n",
              "          if (!dataTable) return;\n",
              "\n",
              "          const docLinkHtml = 'Like what you see? Visit the ' +\n",
              "            '<a target=\"_blank\" href=https://colab.research.google.com/notebooks/data_table.ipynb>data table notebook</a>'\n",
              "            + ' to learn more about interactive tables.';\n",
              "          element.innerHTML = '';\n",
              "          dataTable['output_type'] = 'display_data';\n",
              "          await google.colab.output.renderOutput(dataTable, element);\n",
              "          const docLink = document.createElement('div');\n",
              "          docLink.innerHTML = docLinkHtml;\n",
              "          element.appendChild(docLink);\n",
              "        }\n",
              "      </script>\n",
              "    </div>\n",
              "  </div>\n",
              "  "
            ]
          },
          "metadata": {},
          "execution_count": 216
        }
      ]
    },
    {
      "cell_type": "markdown",
      "source": [
        "## removing non-anomolies"
      ],
      "metadata": {
        "id": "PUNXzsAhxrDz"
      }
    },
    {
      "cell_type": "code",
      "source": [
        "data = data_all.loc[data_all['Label'] != 'Anomaly']"
      ],
      "metadata": {
        "id": "y6FCouAKi0NF"
      },
      "execution_count": 5,
      "outputs": []
    },
    {
      "cell_type": "markdown",
      "source": [
        "let see with how much data we lerft with :"
      ],
      "metadata": {
        "id": "Ce375z6jjowL"
      }
    },
    {
      "cell_type": "code",
      "source": [
        "len(data)"
      ],
      "metadata": {
        "colab": {
          "base_uri": "https://localhost:8080/"
        },
        "id": "vuga-GDbjjzm",
        "outputId": "3aaaa004-87b1-41f4-a702-293e65f5330e"
      },
      "execution_count": null,
      "outputs": [
        {
          "output_type": "execute_result",
          "data": {
            "text/plain": [
              "40073"
            ]
          },
          "metadata": {},
          "execution_count": 218
        }
      ]
    },
    {
      "cell_type": "markdown",
      "source": [
        "we will no try to train a dummy clasifier, to find the dataset's base accurcy, by tryin to predict the src IP"
      ],
      "metadata": {
        "id": "EKcU406hju_v"
      }
    },
    {
      "cell_type": "code",
      "source": [
        "srcIP = data['Src_IP']"
      ],
      "metadata": {
        "id": "rAKtUaNYkzAB"
      },
      "execution_count": null,
      "outputs": []
    },
    {
      "cell_type": "code",
      "source": [
        "model_data = data.drop('Src_IP', axis=1)"
      ],
      "metadata": {
        "id": "W1WAVOBDlQLY"
      },
      "execution_count": null,
      "outputs": []
    },
    {
      "cell_type": "code",
      "source": [
        "X_train, X_test, y_train, y_test = train_test_split(model_data, srcIP, test_size=0.2)"
      ],
      "metadata": {
        "id": "_a0hMi-1lm9J"
      },
      "execution_count": null,
      "outputs": []
    },
    {
      "cell_type": "code",
      "source": [
        "dummy_clf = DummyClassifier(strategy=\"most_frequent\")\n",
        "dummy_clf.fit(X_train, y_train)"
      ],
      "metadata": {
        "colab": {
          "base_uri": "https://localhost:8080/",
          "height": 74
        },
        "id": "5YRszsI2l8R4",
        "outputId": "98bd87c5-f2ce-4ff2-9f66-07c13693932a"
      },
      "execution_count": null,
      "outputs": [
        {
          "output_type": "execute_result",
          "data": {
            "text/plain": [
              "DummyClassifier(strategy='most_frequent')"
            ],
            "text/html": [
              "<style>#sk-container-id-2 {color: black;background-color: white;}#sk-container-id-2 pre{padding: 0;}#sk-container-id-2 div.sk-toggleable {background-color: white;}#sk-container-id-2 label.sk-toggleable__label {cursor: pointer;display: block;width: 100%;margin-bottom: 0;padding: 0.3em;box-sizing: border-box;text-align: center;}#sk-container-id-2 label.sk-toggleable__label-arrow:before {content: \"▸\";float: left;margin-right: 0.25em;color: #696969;}#sk-container-id-2 label.sk-toggleable__label-arrow:hover:before {color: black;}#sk-container-id-2 div.sk-estimator:hover label.sk-toggleable__label-arrow:before {color: black;}#sk-container-id-2 div.sk-toggleable__content {max-height: 0;max-width: 0;overflow: hidden;text-align: left;background-color: #f0f8ff;}#sk-container-id-2 div.sk-toggleable__content pre {margin: 0.2em;color: black;border-radius: 0.25em;background-color: #f0f8ff;}#sk-container-id-2 input.sk-toggleable__control:checked~div.sk-toggleable__content {max-height: 200px;max-width: 100%;overflow: auto;}#sk-container-id-2 input.sk-toggleable__control:checked~label.sk-toggleable__label-arrow:before {content: \"▾\";}#sk-container-id-2 div.sk-estimator input.sk-toggleable__control:checked~label.sk-toggleable__label {background-color: #d4ebff;}#sk-container-id-2 div.sk-label input.sk-toggleable__control:checked~label.sk-toggleable__label {background-color: #d4ebff;}#sk-container-id-2 input.sk-hidden--visually {border: 0;clip: rect(1px 1px 1px 1px);clip: rect(1px, 1px, 1px, 1px);height: 1px;margin: -1px;overflow: hidden;padding: 0;position: absolute;width: 1px;}#sk-container-id-2 div.sk-estimator {font-family: monospace;background-color: #f0f8ff;border: 1px dotted black;border-radius: 0.25em;box-sizing: border-box;margin-bottom: 0.5em;}#sk-container-id-2 div.sk-estimator:hover {background-color: #d4ebff;}#sk-container-id-2 div.sk-parallel-item::after {content: \"\";width: 100%;border-bottom: 1px solid gray;flex-grow: 1;}#sk-container-id-2 div.sk-label:hover label.sk-toggleable__label {background-color: #d4ebff;}#sk-container-id-2 div.sk-serial::before {content: \"\";position: absolute;border-left: 1px solid gray;box-sizing: border-box;top: 0;bottom: 0;left: 50%;z-index: 0;}#sk-container-id-2 div.sk-serial {display: flex;flex-direction: column;align-items: center;background-color: white;padding-right: 0.2em;padding-left: 0.2em;position: relative;}#sk-container-id-2 div.sk-item {position: relative;z-index: 1;}#sk-container-id-2 div.sk-parallel {display: flex;align-items: stretch;justify-content: center;background-color: white;position: relative;}#sk-container-id-2 div.sk-item::before, #sk-container-id-2 div.sk-parallel-item::before {content: \"\";position: absolute;border-left: 1px solid gray;box-sizing: border-box;top: 0;bottom: 0;left: 50%;z-index: -1;}#sk-container-id-2 div.sk-parallel-item {display: flex;flex-direction: column;z-index: 1;position: relative;background-color: white;}#sk-container-id-2 div.sk-parallel-item:first-child::after {align-self: flex-end;width: 50%;}#sk-container-id-2 div.sk-parallel-item:last-child::after {align-self: flex-start;width: 50%;}#sk-container-id-2 div.sk-parallel-item:only-child::after {width: 0;}#sk-container-id-2 div.sk-dashed-wrapped {border: 1px dashed gray;margin: 0 0.4em 0.5em 0.4em;box-sizing: border-box;padding-bottom: 0.4em;background-color: white;}#sk-container-id-2 div.sk-label label {font-family: monospace;font-weight: bold;display: inline-block;line-height: 1.2em;}#sk-container-id-2 div.sk-label-container {text-align: center;}#sk-container-id-2 div.sk-container {/* jupyter's `normalize.less` sets `[hidden] { display: none; }` but bootstrap.min.css set `[hidden] { display: none !important; }` so we also need the `!important` here to be able to override the default hidden behavior on the sphinx rendered scikit-learn.org. See: https://github.com/scikit-learn/scikit-learn/issues/21755 */display: inline-block !important;position: relative;}#sk-container-id-2 div.sk-text-repr-fallback {display: none;}</style><div id=\"sk-container-id-2\" class=\"sk-top-container\"><div class=\"sk-text-repr-fallback\"><pre>DummyClassifier(strategy=&#x27;most_frequent&#x27;)</pre><b>In a Jupyter environment, please rerun this cell to show the HTML representation or trust the notebook. <br />On GitHub, the HTML representation is unable to render, please try loading this page with nbviewer.org.</b></div><div class=\"sk-container\" hidden><div class=\"sk-item\"><div class=\"sk-estimator sk-toggleable\"><input class=\"sk-toggleable__control sk-hidden--visually\" id=\"sk-estimator-id-2\" type=\"checkbox\" checked><label for=\"sk-estimator-id-2\" class=\"sk-toggleable__label sk-toggleable__label-arrow\">DummyClassifier</label><div class=\"sk-toggleable__content\"><pre>DummyClassifier(strategy=&#x27;most_frequent&#x27;)</pre></div></div></div></div></div>"
            ]
          },
          "metadata": {},
          "execution_count": 222
        }
      ]
    },
    {
      "cell_type": "code",
      "source": [
        "predictions = dummy_clf.predict(X_test)"
      ],
      "metadata": {
        "id": "STiN3cvNmGa8"
      },
      "execution_count": null,
      "outputs": []
    },
    {
      "cell_type": "code",
      "source": [
        "accuracy_score(predictions, y_test)"
      ],
      "metadata": {
        "colab": {
          "base_uri": "https://localhost:8080/"
        },
        "id": "gaTFT36VmLBC",
        "outputId": "5343e8f1-5a10-4597-b8a8-16b289ad5358"
      },
      "execution_count": null,
      "outputs": [
        {
          "output_type": "execute_result",
          "data": {
            "text/plain": [
              "0.785402370555209"
            ]
          },
          "metadata": {},
          "execution_count": 224
        }
      ]
    },
    {
      "cell_type": "markdown",
      "source": [
        "## anylsis of all data"
      ],
      "metadata": {
        "id": "6EyxhBaIxpZf"
      }
    },
    {
      "cell_type": "code",
      "source": [
        "data_all_anylsis = data_all.drop(columns=['Flow_ID', 'Src_IP', 'Src_Port', 'Dst_IP', 'Dst_Port', 'Protocol', 'Timestamp', 'Label', 'Cat'])\n",
        "data_all_anylsis.replace([np.inf, -np.inf], np.nan, inplace=True)"
      ],
      "metadata": {
        "id": "_nKyM0i_3gmP"
      },
      "execution_count": 34,
      "outputs": []
    },
    {
      "cell_type": "code",
      "source": [
        "categories = list(Counter(data_all['Sub_Cat']).keys())\n",
        "categories"
      ],
      "metadata": {
        "colab": {
          "base_uri": "https://localhost:8080/"
        },
        "id": "2zgYanAH53Ss",
        "outputId": "7aed2760-8806-415b-c704-cfd2acb83676"
      },
      "execution_count": 35,
      "outputs": [
        {
          "output_type": "execute_result",
          "data": {
            "text/plain": [
              "['Mirai-Ackflooding',\n",
              " 'DoS-Synflooding',\n",
              " 'Scan Port OS',\n",
              " 'Mirai-Hostbruteforceg',\n",
              " 'Mirai-UDP Flooding',\n",
              " 'Mirai-HTTP Flooding',\n",
              " 'Normal',\n",
              " 'Scan Hostport',\n",
              " 'MITM ARP Spoofing']"
            ]
          },
          "metadata": {},
          "execution_count": 35
        }
      ]
    },
    {
      "cell_type": "code",
      "source": [
        "def getCategoryRecords(cat):\n",
        "  ans = data_all_anylsis[data_all_anylsis['Sub_Cat'] == cat]\n",
        "  ans = ans.drop(columns=['Sub_Cat'])\n",
        "  print(f'{cat} records : {len(ans)}')\n",
        "  return ans\n",
        "\n",
        "def getSimilarity(data1, data2, SIMILARITY_THRESHOLD = 0.98) :\n",
        "  data1 = data1.mean()\n",
        "  data2 = data2.mean()\n",
        "\n",
        "  columns = ['field', 'HTTP AVG', 'ACK AVG', 'similarity']\n",
        "  ans = pd.DataFrame(columns=columns)\n",
        "  rows = []\n",
        "  zeros = 0\n",
        "\n",
        "  for k, v in data1.items():\n",
        "    if v == data2[k] :\n",
        "      rows.append([k, data2[k], v, 1])\n",
        "      if v == 0 :\n",
        "        zeros +=1\n",
        "      continue\n",
        "\n",
        "    if v == 0 or data2[k] == 0:\n",
        "        continue\n",
        "\n",
        "\n",
        "    diff = min( data2[k]/v, v/data2[k])\n",
        "\n",
        "    if diff <= 1 and diff >= SIMILARITY_THRESHOLD:\n",
        "      rows.append([k, data2[k], v, diff])\n",
        "\n",
        "  ans = pd.concat([ans, pd.DataFrame(rows, columns=columns)], ignore_index=True)\n",
        "  print(f'#zero equal features: {zeros}')\n",
        "  print(f'#similar features: {len(ans)}\\n')\n",
        "  return ans"
      ],
      "metadata": {
        "id": "qTv5b-1Z3WYt"
      },
      "execution_count": 57,
      "outputs": []
    },
    {
      "cell_type": "code",
      "source": [
        "columns = ['category 1', 'category 2', 'similarFeatures']\n",
        "similarityHeatMap = pd.DataFrame(columns=columns)\n",
        "rows = []\n",
        "\n",
        "for cat1, cat2 in combinations(categories,2) :\n",
        "  similarFeatures = getSimilarity(getCategoryRecords(cat1), getCategoryRecords(cat2))\n",
        "  rows.append([cat1, cat2, len(similarFeatures)])\n",
        "  rows.append([cat2, cat1, len(similarFeatures)])\n",
        "\n",
        "for cat in categories :\n",
        "  rows.append([cat, cat,  len(data_all_anylsis.columns) - 1]) # -1 for the\n",
        "\n",
        "similarityHeatMap = pd.concat([similarityHeatMap, pd.DataFrame(rows, columns=columns)], ignore_index=True)"
      ],
      "metadata": {
        "colab": {
          "base_uri": "https://localhost:8080/"
        },
        "id": "mMscGmU06j_B",
        "outputId": "0295a7c9-5bc2-429c-ed24-24c0b5ec9709"
      },
      "execution_count": 58,
      "outputs": [
        {
          "output_type": "stream",
          "name": "stdout",
          "text": [
            "Mirai-Ackflooding records : 55124\n",
            "DoS-Synflooding records : 59391\n",
            "#zero equal features: 9\n",
            "#similar features: 10\n",
            "\n",
            "Mirai-Ackflooding records : 55124\n",
            "Scan Port OS records : 53073\n",
            "#zero equal features: 13\n",
            "#similar features: 15\n",
            "\n",
            "Mirai-Ackflooding records : 55124\n",
            "Mirai-Hostbruteforceg records : 121181\n",
            "#zero equal features: 10\n",
            "#similar features: 11\n",
            "\n",
            "Mirai-Ackflooding records : 55124\n",
            "Mirai-UDP Flooding records : 183554\n",
            "#zero equal features: 9\n",
            "#similar features: 10\n",
            "\n",
            "Mirai-Ackflooding records : 55124\n",
            "Mirai-HTTP Flooding records : 55818\n",
            "#zero equal features: 13\n",
            "#similar features: 72\n",
            "\n",
            "Mirai-Ackflooding records : 55124\n",
            "Normal records : 40073\n",
            "#zero equal features: 13\n",
            "#similar features: 17\n",
            "\n",
            "Mirai-Ackflooding records : 55124\n",
            "Scan Hostport records : 22192\n",
            "#zero equal features: 13\n",
            "#similar features: 16\n",
            "\n",
            "Mirai-Ackflooding records : 55124\n",
            "MITM ARP Spoofing records : 35377\n",
            "#zero equal features: 13\n",
            "#similar features: 14\n",
            "\n",
            "DoS-Synflooding records : 59391\n",
            "Scan Port OS records : 53073\n",
            "#zero equal features: 9\n",
            "#similar features: 10\n",
            "\n",
            "DoS-Synflooding records : 59391\n",
            "Mirai-Hostbruteforceg records : 121181\n",
            "#zero equal features: 9\n",
            "#similar features: 12\n",
            "\n",
            "DoS-Synflooding records : 59391\n",
            "Mirai-UDP Flooding records : 183554\n",
            "#zero equal features: 9\n",
            "#similar features: 10\n",
            "\n",
            "DoS-Synflooding records : 59391\n",
            "Mirai-HTTP Flooding records : 55818\n",
            "#zero equal features: 9\n",
            "#similar features: 10\n",
            "\n",
            "DoS-Synflooding records : 59391\n",
            "Normal records : 40073\n",
            "#zero equal features: 9\n",
            "#similar features: 10\n",
            "\n",
            "DoS-Synflooding records : 59391\n",
            "Scan Hostport records : 22192\n",
            "#zero equal features: 9\n",
            "#similar features: 10\n",
            "\n",
            "DoS-Synflooding records : 59391\n",
            "MITM ARP Spoofing records : 35377\n",
            "#zero equal features: 9\n",
            "#similar features: 12\n",
            "\n",
            "Scan Port OS records : 53073\n",
            "Mirai-Hostbruteforceg records : 121181\n",
            "#zero equal features: 10\n",
            "#similar features: 18\n",
            "\n",
            "Scan Port OS records : 53073\n",
            "Mirai-UDP Flooding records : 183554\n",
            "#zero equal features: 9\n",
            "#similar features: 11\n",
            "\n",
            "Scan Port OS records : 53073\n",
            "Mirai-HTTP Flooding records : 55818\n",
            "#zero equal features: 13\n",
            "#similar features: 15\n",
            "\n",
            "Scan Port OS records : 53073\n",
            "Normal records : 40073\n",
            "#zero equal features: 13\n",
            "#similar features: 19\n",
            "\n",
            "Scan Port OS records : 53073\n",
            "Scan Hostport records : 22192\n",
            "#zero equal features: 14\n",
            "#similar features: 29\n",
            "\n",
            "Scan Port OS records : 53073\n",
            "MITM ARP Spoofing records : 35377\n",
            "#zero equal features: 14\n",
            "#similar features: 30\n",
            "\n",
            "Mirai-Hostbruteforceg records : 121181\n",
            "Mirai-UDP Flooding records : 183554\n",
            "#zero equal features: 9\n",
            "#similar features: 11\n",
            "\n",
            "Mirai-Hostbruteforceg records : 121181\n",
            "Mirai-HTTP Flooding records : 55818\n",
            "#zero equal features: 10\n",
            "#similar features: 11\n",
            "\n",
            "Mirai-Hostbruteforceg records : 121181\n",
            "Normal records : 40073\n",
            "#zero equal features: 10\n",
            "#similar features: 12\n",
            "\n",
            "Mirai-Hostbruteforceg records : 121181\n",
            "Scan Hostport records : 22192\n",
            "#zero equal features: 10\n",
            "#similar features: 11\n",
            "\n",
            "Mirai-Hostbruteforceg records : 121181\n",
            "MITM ARP Spoofing records : 35377\n",
            "#zero equal features: 10\n",
            "#similar features: 17\n",
            "\n",
            "Mirai-UDP Flooding records : 183554\n",
            "Mirai-HTTP Flooding records : 55818\n",
            "#zero equal features: 9\n",
            "#similar features: 10\n",
            "\n",
            "Mirai-UDP Flooding records : 183554\n",
            "Normal records : 40073\n",
            "#zero equal features: 9\n",
            "#similar features: 10\n",
            "\n",
            "Mirai-UDP Flooding records : 183554\n",
            "Scan Hostport records : 22192\n",
            "#zero equal features: 9\n",
            "#similar features: 10\n",
            "\n",
            "Mirai-UDP Flooding records : 183554\n",
            "MITM ARP Spoofing records : 35377\n",
            "#zero equal features: 9\n",
            "#similar features: 10\n",
            "\n",
            "Mirai-HTTP Flooding records : 55818\n",
            "Normal records : 40073\n",
            "#zero equal features: 13\n",
            "#similar features: 17\n",
            "\n",
            "Mirai-HTTP Flooding records : 55818\n",
            "Scan Hostport records : 22192\n",
            "#zero equal features: 13\n",
            "#similar features: 16\n",
            "\n",
            "Mirai-HTTP Flooding records : 55818\n",
            "MITM ARP Spoofing records : 35377\n",
            "#zero equal features: 13\n",
            "#similar features: 14\n",
            "\n",
            "Normal records : 40073\n",
            "Scan Hostport records : 22192\n",
            "#zero equal features: 13\n",
            "#similar features: 18\n",
            "\n",
            "Normal records : 40073\n",
            "MITM ARP Spoofing records : 35377\n",
            "#zero equal features: 13\n",
            "#similar features: 14\n",
            "\n",
            "Scan Hostport records : 22192\n",
            "MITM ARP Spoofing records : 35377\n",
            "#zero equal features: 14\n",
            "#similar features: 26\n",
            "\n"
          ]
        }
      ]
    },
    {
      "cell_type": "code",
      "source": [
        "similarityHeatMap['similarFeatures'] = pd.to_numeric(similarityHeatMap['similarFeatures'] / similarityHeatMap['similarFeatures'].max() )\n",
        "similarityHeatMap = similarityHeatMap.pivot(index='category 1', columns='category 2', values='similarFeatures')"
      ],
      "metadata": {
        "id": "l3Vp0uDBDbRr"
      },
      "execution_count": 59,
      "outputs": []
    },
    {
      "cell_type": "code",
      "source": [
        "similarityHeatMap"
      ],
      "metadata": {
        "colab": {
          "base_uri": "https://localhost:8080/",
          "height": 403
        },
        "id": "1cayPEeVDGjm",
        "outputId": "01a7b20a-ad0a-4b6f-8886-2c3bedb63951"
      },
      "execution_count": 60,
      "outputs": [
        {
          "output_type": "execute_result",
          "data": {
            "text/plain": [
              "category 2             DoS-Synflooding  MITM ARP Spoofing  Mirai-Ackflooding  \\\n",
              "category 1                                                                     \n",
              "DoS-Synflooding               1.000000           0.157895           0.131579   \n",
              "MITM ARP Spoofing             0.157895           1.000000           0.184211   \n",
              "Mirai-Ackflooding             0.131579           0.184211           1.000000   \n",
              "Mirai-HTTP Flooding           0.131579           0.184211           0.947368   \n",
              "Mirai-Hostbruteforceg         0.157895           0.223684           0.144737   \n",
              "Mirai-UDP Flooding            0.131579           0.131579           0.131579   \n",
              "Normal                        0.131579           0.184211           0.223684   \n",
              "Scan Hostport                 0.131579           0.342105           0.210526   \n",
              "Scan Port OS                  0.131579           0.394737           0.197368   \n",
              "\n",
              "category 2             Mirai-HTTP Flooding  Mirai-Hostbruteforceg  \\\n",
              "category 1                                                          \n",
              "DoS-Synflooding                   0.131579               0.157895   \n",
              "MITM ARP Spoofing                 0.184211               0.223684   \n",
              "Mirai-Ackflooding                 0.947368               0.144737   \n",
              "Mirai-HTTP Flooding               1.000000               0.144737   \n",
              "Mirai-Hostbruteforceg             0.144737               1.000000   \n",
              "Mirai-UDP Flooding                0.131579               0.144737   \n",
              "Normal                            0.223684               0.157895   \n",
              "Scan Hostport                     0.210526               0.144737   \n",
              "Scan Port OS                      0.197368               0.236842   \n",
              "\n",
              "category 2             Mirai-UDP Flooding    Normal  Scan Hostport  \\\n",
              "category 1                                                           \n",
              "DoS-Synflooding                  0.131579  0.131579       0.131579   \n",
              "MITM ARP Spoofing                0.131579  0.184211       0.342105   \n",
              "Mirai-Ackflooding                0.131579  0.223684       0.210526   \n",
              "Mirai-HTTP Flooding              0.131579  0.223684       0.210526   \n",
              "Mirai-Hostbruteforceg            0.144737  0.157895       0.144737   \n",
              "Mirai-UDP Flooding               1.000000  0.131579       0.131579   \n",
              "Normal                           0.131579  1.000000       0.236842   \n",
              "Scan Hostport                    0.131579  0.236842       1.000000   \n",
              "Scan Port OS                     0.144737  0.250000       0.381579   \n",
              "\n",
              "category 2             Scan Port OS  \n",
              "category 1                           \n",
              "DoS-Synflooding            0.131579  \n",
              "MITM ARP Spoofing          0.394737  \n",
              "Mirai-Ackflooding          0.197368  \n",
              "Mirai-HTTP Flooding        0.197368  \n",
              "Mirai-Hostbruteforceg      0.236842  \n",
              "Mirai-UDP Flooding         0.144737  \n",
              "Normal                     0.250000  \n",
              "Scan Hostport              0.381579  \n",
              "Scan Port OS               1.000000  "
            ],
            "text/html": [
              "\n",
              "  <div id=\"df-3cd222b6-8977-4618-a644-f579ac2866c3\">\n",
              "    <div class=\"colab-df-container\">\n",
              "      <div>\n",
              "<style scoped>\n",
              "    .dataframe tbody tr th:only-of-type {\n",
              "        vertical-align: middle;\n",
              "    }\n",
              "\n",
              "    .dataframe tbody tr th {\n",
              "        vertical-align: top;\n",
              "    }\n",
              "\n",
              "    .dataframe thead th {\n",
              "        text-align: right;\n",
              "    }\n",
              "</style>\n",
              "<table border=\"1\" class=\"dataframe\">\n",
              "  <thead>\n",
              "    <tr style=\"text-align: right;\">\n",
              "      <th>category 2</th>\n",
              "      <th>DoS-Synflooding</th>\n",
              "      <th>MITM ARP Spoofing</th>\n",
              "      <th>Mirai-Ackflooding</th>\n",
              "      <th>Mirai-HTTP Flooding</th>\n",
              "      <th>Mirai-Hostbruteforceg</th>\n",
              "      <th>Mirai-UDP Flooding</th>\n",
              "      <th>Normal</th>\n",
              "      <th>Scan Hostport</th>\n",
              "      <th>Scan Port OS</th>\n",
              "    </tr>\n",
              "    <tr>\n",
              "      <th>category 1</th>\n",
              "      <th></th>\n",
              "      <th></th>\n",
              "      <th></th>\n",
              "      <th></th>\n",
              "      <th></th>\n",
              "      <th></th>\n",
              "      <th></th>\n",
              "      <th></th>\n",
              "      <th></th>\n",
              "    </tr>\n",
              "  </thead>\n",
              "  <tbody>\n",
              "    <tr>\n",
              "      <th>DoS-Synflooding</th>\n",
              "      <td>1.000000</td>\n",
              "      <td>0.157895</td>\n",
              "      <td>0.131579</td>\n",
              "      <td>0.131579</td>\n",
              "      <td>0.157895</td>\n",
              "      <td>0.131579</td>\n",
              "      <td>0.131579</td>\n",
              "      <td>0.131579</td>\n",
              "      <td>0.131579</td>\n",
              "    </tr>\n",
              "    <tr>\n",
              "      <th>MITM ARP Spoofing</th>\n",
              "      <td>0.157895</td>\n",
              "      <td>1.000000</td>\n",
              "      <td>0.184211</td>\n",
              "      <td>0.184211</td>\n",
              "      <td>0.223684</td>\n",
              "      <td>0.131579</td>\n",
              "      <td>0.184211</td>\n",
              "      <td>0.342105</td>\n",
              "      <td>0.394737</td>\n",
              "    </tr>\n",
              "    <tr>\n",
              "      <th>Mirai-Ackflooding</th>\n",
              "      <td>0.131579</td>\n",
              "      <td>0.184211</td>\n",
              "      <td>1.000000</td>\n",
              "      <td>0.947368</td>\n",
              "      <td>0.144737</td>\n",
              "      <td>0.131579</td>\n",
              "      <td>0.223684</td>\n",
              "      <td>0.210526</td>\n",
              "      <td>0.197368</td>\n",
              "    </tr>\n",
              "    <tr>\n",
              "      <th>Mirai-HTTP Flooding</th>\n",
              "      <td>0.131579</td>\n",
              "      <td>0.184211</td>\n",
              "      <td>0.947368</td>\n",
              "      <td>1.000000</td>\n",
              "      <td>0.144737</td>\n",
              "      <td>0.131579</td>\n",
              "      <td>0.223684</td>\n",
              "      <td>0.210526</td>\n",
              "      <td>0.197368</td>\n",
              "    </tr>\n",
              "    <tr>\n",
              "      <th>Mirai-Hostbruteforceg</th>\n",
              "      <td>0.157895</td>\n",
              "      <td>0.223684</td>\n",
              "      <td>0.144737</td>\n",
              "      <td>0.144737</td>\n",
              "      <td>1.000000</td>\n",
              "      <td>0.144737</td>\n",
              "      <td>0.157895</td>\n",
              "      <td>0.144737</td>\n",
              "      <td>0.236842</td>\n",
              "    </tr>\n",
              "    <tr>\n",
              "      <th>Mirai-UDP Flooding</th>\n",
              "      <td>0.131579</td>\n",
              "      <td>0.131579</td>\n",
              "      <td>0.131579</td>\n",
              "      <td>0.131579</td>\n",
              "      <td>0.144737</td>\n",
              "      <td>1.000000</td>\n",
              "      <td>0.131579</td>\n",
              "      <td>0.131579</td>\n",
              "      <td>0.144737</td>\n",
              "    </tr>\n",
              "    <tr>\n",
              "      <th>Normal</th>\n",
              "      <td>0.131579</td>\n",
              "      <td>0.184211</td>\n",
              "      <td>0.223684</td>\n",
              "      <td>0.223684</td>\n",
              "      <td>0.157895</td>\n",
              "      <td>0.131579</td>\n",
              "      <td>1.000000</td>\n",
              "      <td>0.236842</td>\n",
              "      <td>0.250000</td>\n",
              "    </tr>\n",
              "    <tr>\n",
              "      <th>Scan Hostport</th>\n",
              "      <td>0.131579</td>\n",
              "      <td>0.342105</td>\n",
              "      <td>0.210526</td>\n",
              "      <td>0.210526</td>\n",
              "      <td>0.144737</td>\n",
              "      <td>0.131579</td>\n",
              "      <td>0.236842</td>\n",
              "      <td>1.000000</td>\n",
              "      <td>0.381579</td>\n",
              "    </tr>\n",
              "    <tr>\n",
              "      <th>Scan Port OS</th>\n",
              "      <td>0.131579</td>\n",
              "      <td>0.394737</td>\n",
              "      <td>0.197368</td>\n",
              "      <td>0.197368</td>\n",
              "      <td>0.236842</td>\n",
              "      <td>0.144737</td>\n",
              "      <td>0.250000</td>\n",
              "      <td>0.381579</td>\n",
              "      <td>1.000000</td>\n",
              "    </tr>\n",
              "  </tbody>\n",
              "</table>\n",
              "</div>\n",
              "      <button class=\"colab-df-convert\" onclick=\"convertToInteractive('df-3cd222b6-8977-4618-a644-f579ac2866c3')\"\n",
              "              title=\"Convert this dataframe to an interactive table.\"\n",
              "              style=\"display:none;\">\n",
              "        \n",
              "  <svg xmlns=\"http://www.w3.org/2000/svg\" height=\"24px\"viewBox=\"0 0 24 24\"\n",
              "       width=\"24px\">\n",
              "    <path d=\"M0 0h24v24H0V0z\" fill=\"none\"/>\n",
              "    <path d=\"M18.56 5.44l.94 2.06.94-2.06 2.06-.94-2.06-.94-.94-2.06-.94 2.06-2.06.94zm-11 1L8.5 8.5l.94-2.06 2.06-.94-2.06-.94L8.5 2.5l-.94 2.06-2.06.94zm10 10l.94 2.06.94-2.06 2.06-.94-2.06-.94-.94-2.06-.94 2.06-2.06.94z\"/><path d=\"M17.41 7.96l-1.37-1.37c-.4-.4-.92-.59-1.43-.59-.52 0-1.04.2-1.43.59L10.3 9.45l-7.72 7.72c-.78.78-.78 2.05 0 2.83L4 21.41c.39.39.9.59 1.41.59.51 0 1.02-.2 1.41-.59l7.78-7.78 2.81-2.81c.8-.78.8-2.07 0-2.86zM5.41 20L4 18.59l7.72-7.72 1.47 1.35L5.41 20z\"/>\n",
              "  </svg>\n",
              "      </button>\n",
              "      \n",
              "  <style>\n",
              "    .colab-df-container {\n",
              "      display:flex;\n",
              "      flex-wrap:wrap;\n",
              "      gap: 12px;\n",
              "    }\n",
              "\n",
              "    .colab-df-convert {\n",
              "      background-color: #E8F0FE;\n",
              "      border: none;\n",
              "      border-radius: 50%;\n",
              "      cursor: pointer;\n",
              "      display: none;\n",
              "      fill: #1967D2;\n",
              "      height: 32px;\n",
              "      padding: 0 0 0 0;\n",
              "      width: 32px;\n",
              "    }\n",
              "\n",
              "    .colab-df-convert:hover {\n",
              "      background-color: #E2EBFA;\n",
              "      box-shadow: 0px 1px 2px rgba(60, 64, 67, 0.3), 0px 1px 3px 1px rgba(60, 64, 67, 0.15);\n",
              "      fill: #174EA6;\n",
              "    }\n",
              "\n",
              "    [theme=dark] .colab-df-convert {\n",
              "      background-color: #3B4455;\n",
              "      fill: #D2E3FC;\n",
              "    }\n",
              "\n",
              "    [theme=dark] .colab-df-convert:hover {\n",
              "      background-color: #434B5C;\n",
              "      box-shadow: 0px 1px 3px 1px rgba(0, 0, 0, 0.15);\n",
              "      filter: drop-shadow(0px 1px 2px rgba(0, 0, 0, 0.3));\n",
              "      fill: #FFFFFF;\n",
              "    }\n",
              "  </style>\n",
              "\n",
              "      <script>\n",
              "        const buttonEl =\n",
              "          document.querySelector('#df-3cd222b6-8977-4618-a644-f579ac2866c3 button.colab-df-convert');\n",
              "        buttonEl.style.display =\n",
              "          google.colab.kernel.accessAllowed ? 'block' : 'none';\n",
              "\n",
              "        async function convertToInteractive(key) {\n",
              "          const element = document.querySelector('#df-3cd222b6-8977-4618-a644-f579ac2866c3');\n",
              "          const dataTable =\n",
              "            await google.colab.kernel.invokeFunction('convertToInteractive',\n",
              "                                                     [key], {});\n",
              "          if (!dataTable) return;\n",
              "\n",
              "          const docLinkHtml = 'Like what you see? Visit the ' +\n",
              "            '<a target=\"_blank\" href=https://colab.research.google.com/notebooks/data_table.ipynb>data table notebook</a>'\n",
              "            + ' to learn more about interactive tables.';\n",
              "          element.innerHTML = '';\n",
              "          dataTable['output_type'] = 'display_data';\n",
              "          await google.colab.output.renderOutput(dataTable, element);\n",
              "          const docLink = document.createElement('div');\n",
              "          docLink.innerHTML = docLinkHtml;\n",
              "          element.appendChild(docLink);\n",
              "        }\n",
              "      </script>\n",
              "    </div>\n",
              "  </div>\n",
              "  "
            ]
          },
          "metadata": {},
          "execution_count": 60
        }
      ]
    },
    {
      "cell_type": "code",
      "source": [
        "map = sns.heatmap(similarityHeatMap, annot=True, cmap='Blues', fmt=\".2f\")"
      ],
      "metadata": {
        "colab": {
          "base_uri": "https://localhost:8080/",
          "height": 593
        },
        "id": "Y0bD4Y5K_weS",
        "outputId": "c4c22e93-bdb5-4a6f-c194-d4abcf25ce70"
      },
      "execution_count": 61,
      "outputs": [
        {
          "output_type": "display_data",
          "data": {
            "text/plain": [
              "<Figure size 640x480 with 2 Axes>"
            ],
            "image/png": "[encoded data removed]"
          },
          "metadata": {}
        }
      ]
    },
    {
      "cell_type": "code",
      "source": [
        "fig = map.get_figure()\n",
        "fig.savefig('heatmap.pdf', format='pdf', bbox_inches='tight')"
      ],
      "metadata": {
        "id": "1zrWIyA5GLJR"
      },
      "execution_count": 62,
      "outputs": []
    },
    {
      "cell_type": "markdown",
      "source": [
        "## Data analysis"
      ],
      "metadata": {
        "id": "maYhAWNvmkTU"
      }
    },
    {
      "cell_type": "code",
      "source": [
        "def numOfUnique(row):\n",
        "  return len(set(row))\n",
        "\n",
        "def countAppearances(row):\n",
        "  return Counter(row)\n",
        "\n",
        "def drawDistributionGraph(row, field, show=True):\n",
        "  appearances = countAppearances(row).values()\n",
        "\n",
        "\n",
        "  plt.title(f'{field} distribution')\n",
        "  plt.ylabel('amout of entries')\n",
        "  plt.xlabel('amout of appearances')\n",
        "\n",
        "  info_text = '\\n'.join((\n",
        "    r'$std=%.3f$' % (statistics.stdev(appearances), ),\n",
        "    r'$mean=%.3f$' % (statistics.mean(appearances), )))\n",
        "\n",
        "  n, bins, patches = plt.hist(appearances)\n",
        "\n",
        "  plt.text(plt.xlim()[1] * .95, plt.ylim()[1] * .95, info_text, ha='right', va='top', bbox=dict(facecolor='white', alpha=0.8))\n",
        "  if show :\n",
        "    plt.show()"
      ],
      "metadata": {
        "id": "dJwabWmenogV"
      },
      "execution_count": null,
      "outputs": []
    },
    {
      "cell_type": "markdown",
      "source": [
        "let see how many diffrent IP adresses we have"
      ],
      "metadata": {
        "id": "58_jpl8UmvNJ"
      }
    },
    {
      "cell_type": "code",
      "source": [
        "numOfUnique(data['Src_IP'])"
      ],
      "metadata": {
        "colab": {
          "base_uri": "https://localhost:8080/"
        },
        "id": "LGHkWscAmunn",
        "outputId": "22ad1b7d-f91a-4874-a422-90e8b3855444"
      },
      "execution_count": null,
      "outputs": [
        {
          "output_type": "execute_result",
          "data": {
            "text/plain": [
              "38"
            ]
          },
          "metadata": {},
          "execution_count": 230
        }
      ]
    },
    {
      "cell_type": "markdown",
      "source": [
        "ket check how many accurence tere is for each IP"
      ],
      "metadata": {
        "id": "zqQJFwpwni2B"
      }
    },
    {
      "cell_type": "code",
      "source": [
        "countAppearances(data['Src_IP']).most_common()"
      ],
      "metadata": {
        "colab": {
          "base_uri": "https://localhost:8080/"
        },
        "id": "5RWngcqIm8Zr",
        "outputId": "fdfbaa09-8e04-4970-fd3a-aec6b29367b8"
      },
      "execution_count": null,
      "outputs": [
        {
          "output_type": "execute_result",
          "data": {
            "text/plain": [
              "[('192.168.0.13', 31483),\n",
              " ('192.168.0.16', 4342),\n",
              " ('192.168.0.24', 1950),\n",
              " ('192.168.0.1', 1712),\n",
              " ('192.168.0.23', 194),\n",
              " ('211.233.18.24', 121),\n",
              " ('223.39.118.176', 58),\n",
              " ('180.182.59.219', 38),\n",
              " ('223.39.123.191', 35),\n",
              " ('223.39.123.194', 23),\n",
              " ('104.76.84.32', 17),\n",
              " ('192.168.0.14', 11),\n",
              " ('172.217.25.99', 9),\n",
              " ('14.129.200.42', 9),\n",
              " ('216.58.197.206', 8),\n",
              " ('18.136.162.179', 8),\n",
              " ('54.180.57.16', 7),\n",
              " ('17.248.161.108', 6),\n",
              " ('17.252.141.84', 6),\n",
              " ('23.23.161.173', 5),\n",
              " ('108.177.97.189', 4),\n",
              " ('108.177.125.188', 3),\n",
              " ('134.221.96.8', 3),\n",
              " ('104.75.19.88', 3),\n",
              " ('211.188.204.21', 3),\n",
              " ('134.221.96.11', 2),\n",
              " ('134.221.96.0', 2),\n",
              " ('134.221.96.9', 1),\n",
              " ('198.252.206.25', 1),\n",
              " ('179.152.102.161', 1),\n",
              " ('23.23.130.219', 1),\n",
              " ('203.205.142.177', 1),\n",
              " ('50.16.236.62', 1),\n",
              " ('74.125.203.189', 1),\n",
              " ('8.6.0.1', 1),\n",
              " ('172.217.161.42', 1),\n",
              " ('172.217.25.110', 1),\n",
              " ('172.217.26.37', 1)]"
            ]
          },
          "metadata": {},
          "execution_count": 231
        }
      ]
    },
    {
      "cell_type": "markdown",
      "source": [
        "let see the distribution graph for src IP"
      ],
      "metadata": {
        "id": "W3i3hENoottt"
      }
    },
    {
      "cell_type": "code",
      "source": [
        "drawDistributionGraph(data['Src_IP'], 'src IP')"
      ],
      "metadata": {
        "colab": {
          "base_uri": "https://localhost:8080/",
          "height": 472
        },
        "id": "hR6ibQiCotKU",
        "outputId": "56e139ef-be05-4a26-8ef3-5d38cea174bb"
      },
      "execution_count": null,
      "outputs": [
        {
          "output_type": "display_data",
          "data": {
            "text/plain": [
              "<Figure size 640x480 with 1 Axes>"
            ],
            "image/png": "[encoded data removed]"
          },
          "metadata": {}
        }
      ]
    },
    {
      "cell_type": "markdown",
      "source": [
        "let do the same on dst IP"
      ],
      "metadata": {
        "id": "UG2JXCtDsGzH"
      }
    },
    {
      "cell_type": "code",
      "source": [
        "numOfUnique(data['Dst_IP'])"
      ],
      "metadata": {
        "colab": {
          "base_uri": "https://localhost:8080/"
        },
        "id": "AF8XZIp1sKu5",
        "outputId": "55de3cc5-4de6-4041-a130-879415275ca8"
      },
      "execution_count": null,
      "outputs": [
        {
          "output_type": "execute_result",
          "data": {
            "text/plain": [
              "45"
            ]
          },
          "metadata": {},
          "execution_count": 233
        }
      ]
    },
    {
      "cell_type": "code",
      "source": [
        "countAppearances(data['Dst_IP']).most_common()"
      ],
      "metadata": {
        "colab": {
          "base_uri": "https://localhost:8080/"
        },
        "id": "xI_aX8XcsNUQ",
        "outputId": "7607672a-d15a-4a64-c3e6-77c721aa4598"
      },
      "execution_count": null,
      "outputs": [
        {
          "output_type": "execute_result",
          "data": {
            "text/plain": [
              "[('192.168.0.16', 31491),\n",
              " ('192.168.0.13', 4267),\n",
              " ('192.168.0.14', 1680),\n",
              " ('104.70.122.58', 1201),\n",
              " ('192.168.0.23', 255),\n",
              " ('222.239.240.107', 234),\n",
              " ('223.39.118.176', 212),\n",
              " ('223.39.123.245', 145),\n",
              " ('223.39.123.191', 85),\n",
              " ('211.188.147.64', 70),\n",
              " ('192.168.0.24', 63),\n",
              " ('239.255.255.250', 60),\n",
              " ('13.32.255.250', 50),\n",
              " ('104.76.84.32', 49),\n",
              " ('18.136.162.179', 36),\n",
              " ('224.0.0.251', 35),\n",
              " ('223.39.123.193', 26),\n",
              " ('224.0.0.1', 12),\n",
              " ('13.228.245.106', 11),\n",
              " ('14.129.200.42', 10),\n",
              " ('223.39.118.149', 10),\n",
              " ('210.103.251.72', 9),\n",
              " ('13.209.102.114', 7),\n",
              " ('211.188.204.21', 6),\n",
              " ('192.168.0.1', 5),\n",
              " ('23.23.161.173', 5),\n",
              " ('23.23.254.24', 4),\n",
              " ('50.16.236.62', 4),\n",
              " ('52.85.124.41', 4),\n",
              " ('179.77.0.91', 3),\n",
              " ('172.217.25.110', 3),\n",
              " ('172.217.26.2', 3),\n",
              " ('82.231.1.105', 2),\n",
              " ('0.0.0.16', 2),\n",
              " ('50.16.244.244', 2),\n",
              " ('203.217.239.46', 2),\n",
              " ('54.243.33.91', 2),\n",
              " ('121.157.1.2', 1),\n",
              " ('31.237.26.217', 1),\n",
              " ('172.217.161.42', 1),\n",
              " ('203.205.142.177', 1),\n",
              " ('23.23.130.219', 1),\n",
              " ('52.78.5.97', 1),\n",
              " ('8.0.6.4', 1),\n",
              " ('180.182.59.219', 1)]"
            ]
          },
          "metadata": {},
          "execution_count": 235
        }
      ]
    },
    {
      "cell_type": "code",
      "source": [
        "drawDistributionGraph(data['Dst_IP'], 'dst IP')"
      ],
      "metadata": {
        "colab": {
          "base_uri": "https://localhost:8080/",
          "height": 472
        },
        "id": "nkl8OyoesP_w",
        "outputId": "ced88929-ebd9-4fbb-c529-8a5951321725"
      },
      "execution_count": null,
      "outputs": [
        {
          "output_type": "display_data",
          "data": {
            "text/plain": [
              "<Figure size 640x480 with 1 Axes>"
            ],
            "image/png": "[encoded data removed]"
          },
          "metadata": {}
        }
      ]
    },
    {
      "cell_type": "markdown",
      "source": [
        "let see how many protocols were in use"
      ],
      "metadata": {
        "id": "rHC-1fLysxrJ"
      }
    },
    {
      "cell_type": "code",
      "source": [
        "numOfUnique(data['Protocol'])"
      ],
      "metadata": {
        "colab": {
          "base_uri": "https://localhost:8080/"
        },
        "id": "IVMRvqtUsurS",
        "outputId": "bf2517dc-0036-4342-82ee-279b4420b522"
      },
      "execution_count": null,
      "outputs": [
        {
          "output_type": "execute_result",
          "data": {
            "text/plain": [
              "3"
            ]
          },
          "metadata": {},
          "execution_count": 237
        }
      ]
    },
    {
      "cell_type": "markdown",
      "source": [
        "let look on the distribution graphs of total amount of package sent, and received"
      ],
      "metadata": {
        "id": "-Kw-Updis5J8"
      }
    },
    {
      "cell_type": "code",
      "source": [
        "drawDistributionGraph(data['Tot_Fwd_Pkts'], 'total forward packets')"
      ],
      "metadata": {
        "colab": {
          "base_uri": "https://localhost:8080/",
          "height": 472
        },
        "id": "MyUgtNwctMS8",
        "outputId": "b62cd86e-4740-49aa-fdfb-d8d7fb52cf38"
      },
      "execution_count": null,
      "outputs": [
        {
          "output_type": "display_data",
          "data": {
            "text/plain": [
              "<Figure size 640x480 with 1 Axes>"
            ],
            "image/png": "[encoded data removed]"
          },
          "metadata": {}
        }
      ]
    },
    {
      "cell_type": "code",
      "source": [
        "drawDistributionGraph(data['Tot_Bwd_Pkts'], 'total backward packets')"
      ],
      "metadata": {
        "colab": {
          "base_uri": "https://localhost:8080/",
          "height": 472
        },
        "id": "GMfyZ21ctTc0",
        "outputId": "717f71fd-b886-460f-8d50-a60a081c7020"
      },
      "execution_count": null,
      "outputs": [
        {
          "output_type": "display_data",
          "data": {
            "text/plain": [
              "<Figure size 640x480 with 1 Axes>"
            ],
            "image/png": "[encoded data removed]"
          },
          "metadata": {}
        }
      ]
    },
    {
      "cell_type": "markdown",
      "source": [
        "let check what are the most common src\\dst ports"
      ],
      "metadata": {
        "id": "cKcwH8jzwvT9"
      }
    },
    {
      "cell_type": "code",
      "source": [
        "len(countAppearances(data['Src_Port']))"
      ],
      "metadata": {
        "colab": {
          "base_uri": "https://localhost:8080/"
        },
        "id": "6egFxvtYdpU0",
        "outputId": "9386a96e-3aad-4d63-f8dd-bb9d3df27e6d"
      },
      "execution_count": null,
      "outputs": [
        {
          "output_type": "execute_result",
          "data": {
            "text/plain": [
              "119"
            ]
          },
          "metadata": {},
          "execution_count": 240
        }
      ]
    },
    {
      "cell_type": "code",
      "source": [
        "len(countAppearances(data_all['Src_Port']))"
      ],
      "metadata": {
        "colab": {
          "base_uri": "https://localhost:8080/"
        },
        "id": "ywssgpFCd-7G",
        "outputId": "92a0caa5-c56e-436e-95ec-8e8e7a1e2c11"
      },
      "execution_count": null,
      "outputs": [
        {
          "output_type": "execute_result",
          "data": {
            "text/plain": [
              "11205"
            ]
          },
          "metadata": {},
          "execution_count": 241
        }
      ]
    },
    {
      "cell_type": "code",
      "source": [
        "countAppearances(data['Src_Port']).most_common()"
      ],
      "metadata": {
        "colab": {
          "base_uri": "https://localhost:8080/"
        },
        "id": "BQIuHZU-wn9N",
        "outputId": "6bf00200-c8a5-415e-d297-5c3e0f49638b"
      },
      "execution_count": null,
      "outputs": [
        {
          "output_type": "execute_result",
          "data": {
            "text/plain": [
              "[(9020, 31455),\n",
              " (80, 1650),\n",
              " (49793, 1424),\n",
              " (50966, 1201),\n",
              " (49799, 1085),\n",
              " (49796, 967),\n",
              " (49789, 741),\n",
              " (443, 339),\n",
              " (57678, 234),\n",
              " (54218, 101),\n",
              " (42038, 70),\n",
              " (37666, 50),\n",
              " (42360, 50),\n",
              " (5353, 35),\n",
              " (52699, 32),\n",
              " (35057, 31),\n",
              " (0, 28),\n",
              " (57210, 28),\n",
              " (8281, 23),\n",
              " (57217, 22),\n",
              " (49362, 20),\n",
              " (49360, 20),\n",
              " (58382, 16),\n",
              " (9010, 13),\n",
              " (38073, 12),\n",
              " (49791, 11),\n",
              " (44675, 10),\n",
              " (37518, 10),\n",
              " (55017, 10),\n",
              " (58383, 10),\n",
              " (37714, 10),\n",
              " (49787, 9),\n",
              " (49366, 9),\n",
              " (53354, 8),\n",
              " (37516, 8),\n",
              " (35410, 7),\n",
              " (49797, 7),\n",
              " (54442, 7),\n",
              " (50866, 7),\n",
              " (37512, 7),\n",
              " (57219, 7),\n",
              " (33760, 7),\n",
              " (49794, 7),\n",
              " (37092, 6),\n",
              " (58727, 6),\n",
              " (34007, 6),\n",
              " (33685, 6),\n",
              " (39486, 6),\n",
              " (53692, 6),\n",
              " (5223, 6),\n",
              " (35104, 6),\n",
              " (60498, 6),\n",
              " (33782, 6),\n",
              " (57221, 6),\n",
              " (49788, 6),\n",
              " (56401, 6),\n",
              " (58102, 6),\n",
              " (38127, 6),\n",
              " (49792, 5),\n",
              " (37747, 5),\n",
              " (56625, 5),\n",
              " (41716, 5),\n",
              " (50059, 5),\n",
              " (45638, 5),\n",
              " (57215, 5),\n",
              " (53642, 5),\n",
              " (47527, 5),\n",
              " (56359, 5),\n",
              " (36294, 5),\n",
              " (49795, 5),\n",
              " (53177, 4),\n",
              " (53648, 4),\n",
              " (43457, 4),\n",
              " (49798, 4),\n",
              " (38188, 4),\n",
              " (55291, 4),\n",
              " (50254, 4),\n",
              " (57218, 4),\n",
              " (38612, 4),\n",
              " (37514, 4),\n",
              " (58881, 4),\n",
              " (49790, 4),\n",
              " (38322, 4),\n",
              " (57214, 4),\n",
              " (32992, 4),\n",
              " (57220, 3),\n",
              " (37502, 3),\n",
              " (5228, 3),\n",
              " (48500, 3),\n",
              " (57216, 3),\n",
              " (54550, 3),\n",
              " (47361, 3),\n",
              " (51718, 3),\n",
              " (49720, 2),\n",
              " (51762, 2),\n",
              " (59073, 2),\n",
              " (35253, 2),\n",
              " (50250, 2),\n",
              " (54374, 2),\n",
              " (57199, 2),\n",
              " (42570, 2),\n",
              " (49718, 2),\n",
              " (48496, 2),\n",
              " (49786, 2),\n",
              " (48498, 2),\n",
              " (55752, 2),\n",
              " (57213, 2),\n",
              " (43911, 2),\n",
              " (46124, 1),\n",
              " (57192, 1),\n",
              " (37472, 1),\n",
              " (53761, 1),\n",
              " (57194, 1),\n",
              " (57196, 1),\n",
              " (49415, 1),\n",
              " (33156, 1),\n",
              " (50872, 1),\n",
              " (53646, 1),\n",
              " (50092, 1)]"
            ]
          },
          "metadata": {},
          "execution_count": 242
        }
      ]
    },
    {
      "cell_type": "code",
      "source": [
        "len(countAppearances(data_all['Dst_Port']))"
      ],
      "metadata": {
        "colab": {
          "base_uri": "https://localhost:8080/"
        },
        "id": "VYd7Wem3ebIH",
        "outputId": "9589dbc9-facf-45fc-b432-dd87ea45b69c"
      },
      "execution_count": null,
      "outputs": [
        {
          "output_type": "execute_result",
          "data": {
            "text/plain": [
              "1034"
            ]
          },
          "metadata": {},
          "execution_count": 243
        }
      ]
    },
    {
      "cell_type": "code",
      "source": [
        "len(countAppearances(data['Dst_Port']))"
      ],
      "metadata": {
        "colab": {
          "base_uri": "https://localhost:8080/"
        },
        "id": "bGoSoymYebjx",
        "outputId": "8cd83cde-6c13-4a3c-fe8e-eb7cc3921a3a"
      },
      "execution_count": null,
      "outputs": [
        {
          "output_type": "execute_result",
          "data": {
            "text/plain": [
              "154"
            ]
          },
          "metadata": {},
          "execution_count": 244
        }
      ]
    },
    {
      "cell_type": "code",
      "source": [
        "countAppearances(data_all['Dst_Port']).most_common()"
      ],
      "metadata": {
        "colab": {
          "base_uri": "https://localhost:8080/"
        },
        "id": "O6uKQKyTw9C0",
        "outputId": "94af8b85-e8f4-4fff-9fcb-dfdd3280269d"
      },
      "execution_count": null,
      "outputs": [
        {
          "output_type": "execute_result",
          "data": {
            "text/plain": [
              "[(9020, 114464),\n",
              " (10101, 94753),\n",
              " (8899, 89518),\n",
              " (443, 55358),\n",
              " (43238, 46092),\n",
              " (554, 43445),\n",
              " (49784, 31454),\n",
              " (9988, 25125),\n",
              " (51875, 23308),\n",
              " (19604, 14421),\n",
              " (80, 9966),\n",
              " (8011, 9057),\n",
              " (56196, 7616),\n",
              " (0, 6315),\n",
              " (52717, 5791),\n",
              " (8043, 5412),\n",
              " (7100, 4609),\n",
              " (7760, 4328),\n",
              " (52739, 3681),\n",
              " (52704, 3618),\n",
              " (7000, 3076),\n",
              " (1900, 2762),\n",
              " (36762, 1609),\n",
              " (9010, 1276),\n",
              " (8100, 1083),\n",
              " (52942, 981),\n",
              " (57894, 900),\n",
              " (52330, 652),\n",
              " (5353, 602),\n",
              " (52919, 597),\n",
              " (6500, 578),\n",
              " (51298, 480),\n",
              " (8080, 445),\n",
              " (9664, 384),\n",
              " (49375, 345),\n",
              " (56211, 312),\n",
              " (10000, 306),\n",
              " (44144, 301),\n",
              " (8281, 297),\n",
              " (12616, 294),\n",
              " (23, 288),\n",
              " (49376, 260),\n",
              " (44022, 245),\n",
              " (55700, 223),\n",
              " (56369, 210),\n",
              " (37286, 206),\n",
              " (5355, 202),\n",
              " (42852, 191),\n",
              " (42856, 189),\n",
              " (1935, 161),\n",
              " (44024, 161),\n",
              " (52256, 160),\n",
              " (47448, 154),\n",
              " (54704, 129),\n",
              " (56094, 121),\n",
              " (52366, 119),\n",
              " (3702, 117),\n",
              " (52368, 111),\n",
              " (47446, 110),\n",
              " (42848, 109),\n",
              " (8200, 106),\n",
              " (47442, 92),\n",
              " (8000, 85),\n",
              " (47444, 79),\n",
              " (56344, 72),\n",
              " (32897, 70),\n",
              " (52810, 70),\n",
              " (49374, 62),\n",
              " (47450, 62),\n",
              " (56361, 60),\n",
              " (5223, 59),\n",
              " (60822, 59),\n",
              " (6800, 56),\n",
              " (58441, 56),\n",
              " (55133, 54),\n",
              " (5938, 49),\n",
              " (33914, 45),\n",
              " (47438, 44),\n",
              " (40282, 40),\n",
              " (5228, 38),\n",
              " (58734, 37),\n",
              " (56354, 36),\n",
              " (40276, 36),\n",
              " (54716, 35),\n",
              " (42858, 34),\n",
              " (48450, 34),\n",
              " (53201, 33),\n",
              " (47458, 31),\n",
              " (56365, 30),\n",
              " (60521, 30),\n",
              " (7777, 30),\n",
              " (33244, 30),\n",
              " (36496, 30),\n",
              " (51518, 30),\n",
              " (53682, 28),\n",
              " (42834, 28),\n",
              " (53, 28),\n",
              " (48660, 28),\n",
              " (53231, 28),\n",
              " (53184, 28),\n",
              " (53207, 27),\n",
              " (56796, 27),\n",
              " (47528, 26),\n",
              " (53185, 26),\n",
              " (53230, 26),\n",
              " (53182, 26),\n",
              " (53195, 25),\n",
              " (55028, 25),\n",
              " (56826, 25),\n",
              " (53237, 25),\n",
              " (53218, 25),\n",
              " (53177, 25),\n",
              " (55217, 25),\n",
              " (47424, 25),\n",
              " (53203, 25),\n",
              " (64955, 24),\n",
              " (55027, 24),\n",
              " (53183, 24),\n",
              " (53170, 24),\n",
              " (53178, 24),\n",
              " (55026, 24),\n",
              " (45182, 24),\n",
              " (40280, 24),\n",
              " (56366, 24),\n",
              " (53174, 24),\n",
              " (53176, 24),\n",
              " (53216, 24),\n",
              " (53166, 23),\n",
              " (53199, 23),\n",
              " (53225, 23),\n",
              " (53198, 23),\n",
              " (53227, 23),\n",
              " (53210, 23),\n",
              " (53228, 23),\n",
              " (47426, 23),\n",
              " (53200, 23),\n",
              " (53202, 23),\n",
              " (53205, 23),\n",
              " (53209, 23),\n",
              " (47192, 23),\n",
              " (56317, 22),\n",
              " (53211, 22),\n",
              " (53190, 22),\n",
              " (47422, 22),\n",
              " (53212, 22),\n",
              " (53215, 22),\n",
              " (53224, 22),\n",
              " (53232, 22),\n",
              " (53204, 22),\n",
              " (47466, 22),\n",
              " (53189, 22),\n",
              " (53226, 22),\n",
              " (53181, 22),\n",
              " (53222, 22),\n",
              " (53197, 22),\n",
              " (53214, 22),\n",
              " (53192, 22),\n",
              " (40278, 21),\n",
              " (53175, 21),\n",
              " (53206, 21),\n",
              " (53169, 21),\n",
              " (47418, 21),\n",
              " (53171, 21),\n",
              " (53208, 21),\n",
              " (53191, 21),\n",
              " (53173, 21),\n",
              " (47428, 21),\n",
              " (53238, 21),\n",
              " (30013, 21),\n",
              " (53180, 21),\n",
              " (53196, 21),\n",
              " (53172, 21),\n",
              " (53229, 20),\n",
              " (47420, 20),\n",
              " (53219, 20),\n",
              " (53235, 20),\n",
              " (53188, 20),\n",
              " (53193, 20),\n",
              " (53223, 20),\n",
              " (53240, 20),\n",
              " (53194, 20),\n",
              " (53213, 20),\n",
              " (6002, 20),\n",
              " (53220, 20),\n",
              " (53236, 20),\n",
              " (53179, 20),\n",
              " (47440, 20),\n",
              " (53217, 20),\n",
              " (48538, 20),\n",
              " (33916, 19),\n",
              " (53221, 19),\n",
              " (47436, 19),\n",
              " (55029, 19),\n",
              " (53186, 19),\n",
              " (53233, 19),\n",
              " (40962, 18),\n",
              " (56394, 18),\n",
              " (56358, 18),\n",
              " (53168, 18),\n",
              " (53239, 18),\n",
              " (53167, 18),\n",
              " (53234, 18),\n",
              " (32365, 18),\n",
              " (56418, 18),\n",
              " (52060, 18),\n",
              " (56368, 18),\n",
              " (35410, 17),\n",
              " (48704, 17),\n",
              " (53241, 17),\n",
              " (56806, 17),\n",
              " (42832, 16),\n",
              " (51500, 16),\n",
              " (60563, 16),\n",
              " (8820, 16),\n",
              " (56824, 15),\n",
              " (59899, 15),\n",
              " (49364, 15),\n",
              " (48542, 15),\n",
              " (47838, 14),\n",
              " (36060, 14),\n",
              " (50086, 13),\n",
              " (56364, 12),\n",
              " (50292, 12),\n",
              " (5242, 12),\n",
              " (49379, 12),\n",
              " (52121, 12),\n",
              " (56415, 12),\n",
              " (56363, 12),\n",
              " (34603, 12),\n",
              " (56822, 12),\n",
              " (39550, 11),\n",
              " (60072, 11),\n",
              " (49116, 10),\n",
              " (54230, 10),\n",
              " (49373, 10),\n",
              " (10554, 10),\n",
              " (48418, 10),\n",
              " (44658, 10),\n",
              " (45086, 10),\n",
              " (52343, 10),\n",
              " (35966, 10),\n",
              " (50088, 10),\n",
              " (56255, 10),\n",
              " (38102, 10),\n",
              " (137, 9),\n",
              " (58447, 9),\n",
              " (48405, 9),\n",
              " (37498, 9),\n",
              " (36746, 9),\n",
              " (39585, 9),\n",
              " (43038, 9),\n",
              " (50188, 9),\n",
              " (59954, 9),\n",
              " (35270, 9),\n",
              " (48672, 9),\n",
              " (48540, 9),\n",
              " (52956, 8),\n",
              " (50092, 8),\n",
              " (56278, 8),\n",
              " (50440, 8),\n",
              " (48738, 8),\n",
              " (48728, 8),\n",
              " (6000, 8),\n",
              " (33918, 8),\n",
              " (45861, 8),\n",
              " (48592, 8),\n",
              " (35314, 8),\n",
              " (34389, 8),\n",
              " (50544, 8),\n",
              " (55372, 7),\n",
              " (50090, 7),\n",
              " (48446, 7),\n",
              " (35786, 7),\n",
              " (44101, 7),\n",
              " (39436, 7),\n",
              " (36867, 7),\n",
              " (37434, 7),\n",
              " (49676, 7),\n",
              " (41171, 7),\n",
              " (51683, 7),\n",
              " (52958, 7),\n",
              " (34056, 7),\n",
              " (54039, 7),\n",
              " (49381, 7),\n",
              " (50202, 7),\n",
              " (39684, 6),\n",
              " (56413, 6),\n",
              " (56390, 6),\n",
              " (50419, 6),\n",
              " (34626, 6),\n",
              " (33684, 6),\n",
              " (50123, 6),\n",
              " (47013, 6),\n",
              " (56670, 6),\n",
              " (47560, 6),\n",
              " (56375, 6),\n",
              " (53845, 6),\n",
              " (51456, 6),\n",
              " (51459, 6),\n",
              " (56374, 6),\n",
              " (34197, 6),\n",
              " (50446, 6),\n",
              " (64850, 6),\n",
              " (35051, 6),\n",
              " (47620, 6),\n",
              " (51458, 6),\n",
              " (60802, 6),\n",
              " (56356, 6),\n",
              " (51453, 6),\n",
              " (44859, 6),\n",
              " (52048, 6),\n",
              " (37500, 6),\n",
              " (54630, 6),\n",
              " (56373, 6),\n",
              " (53187, 6),\n",
              " (49768, 6),\n",
              " (37496, 6),\n",
              " (51451, 6),\n",
              " (47317, 6),\n",
              " (56417, 6),\n",
              " (50425, 6),\n",
              " (56383, 6),\n",
              " (53604, 6),\n",
              " (56333, 6),\n",
              " (56370, 6),\n",
              " (51448, 6),\n",
              " (56362, 6),\n",
              " (56412, 6),\n",
              " (56393, 6),\n",
              " (56403, 6),\n",
              " (51457, 6),\n",
              " (47809, 6),\n",
              " (52642, 6),\n",
              " (45869, 6),\n",
              " (50708, 6),\n",
              " (57434, 6),\n",
              " (64844, 6),\n",
              " (56391, 6),\n",
              " (51452, 6),\n",
              " (52498, 6),\n",
              " (48594, 6),\n",
              " (10107, 6),\n",
              " (56371, 6),\n",
              " (55025, 6),\n",
              " (56349, 6),\n",
              " (37532, 6),\n",
              " (56400, 6),\n",
              " (48383, 6),\n",
              " (35442, 6),\n",
              " (35564, 5),\n",
              " (49384, 5),\n",
              " (60673, 5),\n",
              " (55486, 5),\n",
              " (46728, 5),\n",
              " (42750, 5),\n",
              " (42270, 5),\n",
              " (38809, 5),\n",
              " (57215, 5),\n",
              " (34542, 5),\n",
              " (56253, 5),\n",
              " (38399, 5),\n",
              " (44038, 5),\n",
              " (49377, 5),\n",
              " (42723, 5),\n",
              " (40849, 5),\n",
              " (50119, 5),\n",
              " (36748, 5),\n",
              " (55532, 5),\n",
              " (44899, 5),\n",
              " (51292, 5),\n",
              " (43827, 5),\n",
              " (64563, 5),\n",
              " (34196, 5),\n",
              " (53646, 5),\n",
              " (58040, 5),\n",
              " (51939, 5),\n",
              " (52318, 5),\n",
              " (52896, 5),\n",
              " (56183, 5),\n",
              " (60589, 5),\n",
              " (64931, 5),\n",
              " (48378, 5),\n",
              " (38159, 5),\n",
              " (59978, 5),\n",
              " (57028, 5),\n",
              " (58460, 5),\n",
              " (34228, 4),\n",
              " (49389, 4),\n",
              " (48444, 4),\n",
              " (49391, 4),\n",
              " (48740, 4),\n",
              " (34546, 4),\n",
              " (49444, 4),\n",
              " (48656, 4),\n",
              " (41363, 4),\n",
              " (54141, 4),\n",
              " (35316, 4),\n",
              " (45808, 4),\n",
              " (48815, 4),\n",
              " (41946, 4),\n",
              " (46348, 4),\n",
              " (35914, 4),\n",
              " (49788, 4),\n",
              " (55426, 4),\n",
              " (37480, 4),\n",
              " (50320, 4),\n",
              " (57662, 4),\n",
              " (55581, 4),\n",
              " (35137, 4),\n",
              " (48494, 4),\n",
              " (34226, 4),\n",
              " (51614, 4),\n",
              " (55111, 4),\n",
              " (49383, 4),\n",
              " (60596, 4),\n",
              " (45091, 4),\n",
              " (38554, 4),\n",
              " (49280, 4),\n",
              " (48620, 4),\n",
              " (34225, 4),\n",
              " (59929, 4),\n",
              " (36390, 4),\n",
              " (44322, 4),\n",
              " (49134, 4),\n",
              " (34227, 4),\n",
              " (48596, 4),\n",
              " (49623, 4),\n",
              " (43883, 4),\n",
              " (48492, 4),\n",
              " (58304, 4),\n",
              " (64547, 4),\n",
              " (53117, 4),\n",
              " (53695, 4),\n",
              " (41128, 4),\n",
              " (53644, 4),\n",
              " (48039, 4),\n",
              " (55468, 4),\n",
              " (54667, 4),\n",
              " (48726, 4),\n",
              " (32876, 4),\n",
              " (36730, 4),\n",
              " (53632, 4),\n",
              " (60468, 4),\n",
              " (36485, 4),\n",
              " (41193, 4),\n",
              " (48316, 4),\n",
              " (50510, 4),\n",
              " (33880, 4),\n",
              " (50203, 4),\n",
              " (49382, 4),\n",
              " (52733, 3),\n",
              " (64544, 3),\n",
              " (46480, 3),\n",
              " (37484, 3),\n",
              " (43822, 3),\n",
              " (54760, 3),\n",
              " (54763, 3),\n",
              " (49791, 3),\n",
              " (45900, 3),\n",
              " (56595, 3),\n",
              " (54908, 3),\n",
              " (54028, 3),\n",
              " (49440, 3),\n",
              " (60444, 3),\n",
              " (37874, 3),\n",
              " (39850, 3),\n",
              " (42582, 3),\n",
              " (34224, 3),\n",
              " (49387, 3),\n",
              " (46248, 3),\n",
              " (59486, 3),\n",
              " (33740, 3),\n",
              " (53662, 3),\n",
              " (53601, 3),\n",
              " (37438, 3),\n",
              " (995, 3),\n",
              " (48334, 3),\n",
              " (54690, 3),\n",
              " (60727, 3),\n",
              " (57913, 3),\n",
              " (45538, 3),\n",
              " (42020, 3),\n",
              " (54910, 3),\n",
              " (49620, 3),\n",
              " (60290, 3),\n",
              " (139, 3),\n",
              " (60453, 3),\n",
              " (50024, 3),\n",
              " (42667, 3),\n",
              " (57218, 3),\n",
              " (40314, 3),\n",
              " (48274, 3),\n",
              " (56855, 3),\n",
              " (50996, 3),\n",
              " (64554, 3),\n",
              " (44974, 3),\n",
              " (46372, 3),\n",
              " (32916, 3),\n",
              " (61611, 3),\n",
              " (55579, 3),\n",
              " (57217, 3),\n",
              " (61853, 3),\n",
              " (45882, 3),\n",
              " (58720, 3),\n",
              " (37476, 3),\n",
              " (60567, 3),\n",
              " (50252, 3),\n",
              " (53244, 3),\n",
              " (49191, 3),\n",
              " (55488, 3),\n",
              " (42606, 3),\n",
              " (57895, 3),\n",
              " (49798, 3),\n",
              " (36234, 3),\n",
              " (45850, 3),\n",
              " (38719, 3),\n",
              " (54907, 3),\n",
              " (53846, 3),\n",
              " (51708, 3),\n",
              " (60584, 3),\n",
              " (33812, 3),\n",
              " (34237, 3),\n",
              " (49947, 3),\n",
              " (56226, 3),\n",
              " (60447, 3),\n",
              " (45300, 3),\n",
              " (61596, 3),\n",
              " (55424, 3),\n",
              " (62780, 2),\n",
              " (60582, 2),\n",
              " (42814, 2),\n",
              " (53157, 2),\n",
              " (60603, 2),\n",
              " (53414, 2),\n",
              " (55193, 2),\n",
              " (60573, 2),\n",
              " (57656, 2),\n",
              " (60537, 2),\n",
              " (44200, 2),\n",
              " (40134, 2),\n",
              " (57299, 2),\n",
              " (41040, 2),\n",
              " (60506, 2),\n",
              " (55359, 2),\n",
              " (58230, 2),\n",
              " (60051, 2),\n",
              " (44826, 2),\n",
              " (55072, 2),\n",
              " (61991, 2),\n",
              " (54762, 2),\n",
              " (34540, 2),\n",
              " (43634, 2),\n",
              " (55247, 2),\n",
              " (51736, 2),\n",
              " (51112, 2),\n",
              " (52969, 2),\n",
              " (54452, 2),\n",
              " (53050, 2),\n",
              " (45936, 2),\n",
              " (61597, 2),\n",
              " (55210, 2),\n",
              " (37478, 2),\n",
              " (55182, 2),\n",
              " (53692, 2),\n",
              " (51434, 2),\n",
              " (61327, 2),\n",
              " (33742, 2),\n",
              " (51593, 2),\n",
              " (60322, 2),\n",
              " (49380, 2),\n",
              " (56483, 2),\n",
              " (55101, 2),\n",
              " (54515, 2),\n",
              " (60608, 2),\n",
              " (42598, 2),\n",
              " (52462, 2),\n",
              " (55576, 2),\n",
              " (56212, 2),\n",
              " (47904, 2),\n",
              " (37446, 2),\n",
              " (36605, 2),\n",
              " (50121, 2),\n",
              " (54693, 2),\n",
              " (50768, 2),\n",
              " (54191, 2),\n",
              " (49385, 2),\n",
              " (51932, 2),\n",
              " (48754, 2),\n",
              " (3101, 2),\n",
              " (60527, 2),\n",
              " (52475, 2),\n",
              " (60531, 2),\n",
              " (57504, 2),\n",
              " (54779, 2),\n",
              " (56225, 2),\n",
              " (50212, 2),\n",
              " (54785, 2),\n",
              " (54911, 2),\n",
              " (54692, 2),\n",
              " (54691, 2),\n",
              " (42574, 2),\n",
              " (54056, 2),\n",
              " (51943, 2),\n",
              " (51493, 2),\n",
              " (5683, 2),\n",
              " (44302, 2),\n",
              " (54909, 2),\n",
              " (48767, 2),\n",
              " (57398, 2),\n",
              " (36738, 2),\n",
              " (54168, 2),\n",
              " (43141, 2),\n",
              " (58450, 2),\n",
              " (60565, 2),\n",
              " (37448, 2),\n",
              " (33318, 2),\n",
              " (48416, 2),\n",
              " (44056, 2),\n",
              " (31750, 2),\n",
              " (55140, 2),\n",
              " (55134, 2),\n",
              " (49386, 2),\n",
              " (34981, 2),\n",
              " (49826, 2),\n",
              " (64778, 2),\n",
              " (52684, 2),\n",
              " (55603, 2),\n",
              " (60602, 2),\n",
              " (38878, 2),\n",
              " (50655, 2),\n",
              " (60033, 2),\n",
              " (36915, 2),\n",
              " (43072, 2),\n",
              " (63426, 2),\n",
              " (51188, 2),\n",
              " (52260, 2),\n",
              " (51961, 2),\n",
              " (61858, 2),\n",
              " (61718, 2),\n",
              " (38054, 2),\n",
              " (62508, 2),\n",
              " (47724, 2),\n",
              " (44794, 2),\n",
              " (43828, 2),\n",
              " (60555, 2),\n",
              " (48332, 2),\n",
              " (63227, 2),\n",
              " (44412, 2),\n",
              " (60570, 2),\n",
              " (40156, 2),\n",
              " (56812, 2),\n",
              " (63935, 2),\n",
              " (54694, 2),\n",
              " (30346, 2),\n",
              " (60088, 2),\n",
              " (33844, 2),\n",
              " (37472, 2),\n",
              " (54217, 2),\n",
              " (41808, 2),\n",
              " (48480, 2),\n",
              " (54764, 2),\n",
              " (49390, 2),\n",
              " (60601, 2),\n",
              " (49378, 2),\n",
              " (48226, 2),\n",
              " (54761, 2),\n",
              " (59316, 2),\n",
              " (55248, 2),\n",
              " (37482, 2),\n",
              " (49674, 1),\n",
              " (52718, 1),\n",
              " (36750, 1),\n",
              " (61608, 1),\n",
              " (58378, 1),\n",
              " (34775, 1),\n",
              " (60564, 1),\n",
              " (64549, 1),\n",
              " (33171, 1),\n",
              " (45755, 1),\n",
              " (55044, 1),\n",
              " (36888, 1),\n",
              " (59753, 1),\n",
              " (49794, 1),\n",
              " (50952, 1),\n",
              " (55224, 1),\n",
              " (60600, 1),\n",
              " (46948, 1),\n",
              " (48448, 1),\n",
              " (40322, 1),\n",
              " (47879, 1),\n",
              " (34020, 1),\n",
              " (50798, 1),\n",
              " (54686, 1),\n",
              " (60586, 1),\n",
              " (34704, 1),\n",
              " (33387, 1),\n",
              " (65371, 1),\n",
              " (61601, 1),\n",
              " (61602, 1),\n",
              " (42537, 1),\n",
              " (34262, 1),\n",
              " (7795, 1),\n",
              " (58636, 1),\n",
              " (51682, 1),\n",
              " (60556, 1),\n",
              " (52949, 1),\n",
              " (9673, 1),\n",
              " (64722, 1),\n",
              " (2761, 1),\n",
              " (85, 1),\n",
              " (54442, 1),\n",
              " (58654, 1),\n",
              " (55221, 1),\n",
              " (52993, 1),\n",
              " (54695, 1),\n",
              " (58648, 1),\n",
              " (60553, 1),\n",
              " (52200, 1),\n",
              " (34486, 1),\n",
              " (52583, 1),\n",
              " (57904, 1),\n",
              " (53006, 1),\n",
              " (45638, 1),\n",
              " (58714, 1),\n",
              " (7628, 1),\n",
              " (52966, 1),\n",
              " (52650, 1),\n",
              " (64588, 1),\n",
              " (51846, 1),\n",
              " (49671, 1),\n",
              " (54458, 1),\n",
              " (38013, 1),\n",
              " (61852, 1),\n",
              " (37946, 1),\n",
              " (52972, 1),\n",
              " (57219, 1),\n",
              " (60443, 1),\n",
              " (54755, 1),\n",
              " (60304, 1),\n",
              " (56276, 1),\n",
              " (5706, 1),\n",
              " (45951, 1),\n",
              " (57270, 1),\n",
              " (47125, 1),\n",
              " (50190, 1),\n",
              " (47218, 1),\n",
              " (58054, 1),\n",
              " (39830, 1),\n",
              " (60605, 1),\n",
              " (56240, 1),\n",
              " (54688, 1),\n",
              " (52587, 1),\n",
              " (48701, 1),\n",
              " (34398, 1),\n",
              " (51586, 1),\n",
              " (61867, 1),\n",
              " (37036, 1),\n",
              " (53512, 1),\n",
              " (33898, 1),\n",
              " (38322, 1),\n",
              " (49673, 1),\n",
              " (60554, 1),\n",
              " (54759, 1),\n",
              " (48616, 1),\n",
              " (55547, 1),\n",
              " (53448, 1),\n",
              " (58813, 1),\n",
              " (52931, 1),\n",
              " (55578, 1),\n",
              " (52943, 1),\n",
              " (33216, 1),\n",
              " (49795, 1),\n",
              " (40504, 1),\n",
              " (37044, 1),\n",
              " (49360, 1),\n",
              " (41940, 1),\n",
              " (49269, 1),\n",
              " (54765, 1),\n",
              " (56238, 1),\n",
              " (37553, 1),\n",
              " (43833, 1),\n",
              " (60709, 1),\n",
              " (55206, 1),\n",
              " (28736, 1),\n",
              " (55558, 1),\n",
              " (7014, 1),\n",
              " (51934, 1),\n",
              " (61595, 1),\n",
              " (52945, 1),\n",
              " (58174, 1),\n",
              " (5943, 1),\n",
              " (33156, 1),\n",
              " (35460, 1),\n",
              " (3118, 1),\n",
              " (64553, 1),\n",
              " (7763, 1),\n",
              " (56214, 1),\n",
              " (52577, 1),\n",
              " (64538, 1),\n",
              " (56710, 1),\n",
              " (33778, 1),\n",
              " (2573, 1),\n",
              " (50095, 1),\n",
              " (5558, 1),\n",
              " (63075, 1),\n",
              " (49362, 1),\n",
              " (42417, 1),\n",
              " (64567, 1),\n",
              " (47460, 1),\n",
              " (55293, 1),\n",
              " (54181, 1),\n",
              " (53011, 1),\n",
              " (49849, 1),\n",
              " (50122, 1),\n",
              " (37907, 1),\n",
              " (48532, 1),\n",
              " (59905, 1),\n",
              " (35282, 1),\n",
              " (61593, 1),\n",
              " (60594, 1),\n",
              " (55203, 1),\n",
              " (54186, 1),\n",
              " (8810, 1),\n",
              " (60536, 1),\n",
              " (52762, 1),\n",
              " (33045, 1),\n",
              " (45059, 1),\n",
              " (43267, 1),\n",
              " (37414, 1),\n",
              " (59884, 1),\n",
              " (57194, 1),\n",
              " (57448, 1),\n",
              " (60540, 1),\n",
              " (52738, 1),\n",
              " (49796, 1),\n",
              " (58448, 1),\n",
              " (47558, 1),\n",
              " (2160, 1),\n",
              " (56258, 1),\n",
              " (46874, 1),\n",
              " (47488, 1),\n",
              " (60591, 1),\n",
              " (60621, 1),\n",
              " (59027, 1),\n",
              " (64546, 1),\n",
              " (33760, 1),\n",
              " (47946, 1),\n",
              " (43457, 1),\n",
              " (60578, 1),\n",
              " (34198, 1),\n",
              " (51258, 1),\n",
              " (56547, 1),\n",
              " (60741, 1),\n",
              " (56229, 1),\n",
              " (55229, 1),\n",
              " (35277, 1),\n",
              " (38320, 1),\n",
              " (37034, 1),\n",
              " (45921, 1),\n",
              " (59494, 1),\n",
              " (61598, 1),\n",
              " (2021, 1),\n",
              " (60597, 1),\n",
              " (37198, 1),\n",
              " (55284, 1),\n",
              " (40935, 1),\n",
              " (59746, 1),\n",
              " (60561, 1),\n",
              " (58564, 1),\n",
              " (54682, 1),\n",
              " (56352, 1),\n",
              " (56265, 1),\n",
              " (57214, 1),\n",
              " (60581, 1),\n",
              " (58824, 1),\n",
              " (41431, 1),\n",
              " (60560, 1),\n",
              " (59028, 1),\n",
              " (4392, 1),\n",
              " (61902, 1),\n",
              " (8911, 1),\n",
              " (52973, 1),\n",
              " (52085, 1),\n",
              " (99, 1),\n",
              " (5684, 1),\n",
              " (34116, 1),\n",
              " (51899, 1),\n",
              " (44344, 1),\n",
              " (50002, 1),\n",
              " (59496, 1),\n",
              " (64590, 1),\n",
              " (6420, 1),\n",
              " (50638, 1),\n",
              " (39434, 1),\n",
              " (35272, 1),\n",
              " (51735, 1),\n",
              " (34400, 1),\n",
              " (55283, 1),\n",
              " (42780, 1),\n",
              " (37040, 1),\n",
              " (2703, 1),\n",
              " (51532, 1),\n",
              " (38228, 1),\n",
              " (55236, 1),\n",
              " (58446, 1),\n",
              " (58712, 1),\n",
              " (55220, 1),\n",
              " (51680, 1),\n",
              " (54906, 1),\n",
              " (34323, 1),\n",
              " (34812, 1),\n",
              " (55239, 1),\n",
              " (5709, 1),\n",
              " (53863, 1),\n",
              " (33304, 1),\n",
              " (62988, 1),\n",
              " (52735, 1),\n",
              " (43, 1),\n",
              " (54451, 1),\n",
              " (54201, 1),\n",
              " (56203, 1),\n",
              " (41038, 1),\n",
              " (60607, 1),\n",
              " (51599, 1),\n",
              " (4808, 1),\n",
              " (60575, 1),\n",
              " (51750, 1),\n",
              " (60588, 1),\n",
              " (60509, 1),\n",
              " (53260, 1),\n",
              " (50380, 1),\n",
              " (56232, 1),\n",
              " (38118, 1),\n",
              " (34189, 1),\n",
              " (46126, 1),\n",
              " (46505, 1),\n",
              " (60535, 1),\n",
              " (33758, 1),\n",
              " (64550, 1),\n",
              " (55244, 1),\n",
              " (41178, 1),\n",
              " (56125, 1),\n",
              " (54212, 1),\n",
              " (56010, 1),\n",
              " (57601, 1),\n",
              " (57192, 1),\n",
              " (51681, 1),\n",
              " (52996, 1),\n",
              " (56221, 1),\n",
              " (62181, 1),\n",
              " (57220, 1),\n",
              " (61851, 1),\n",
              " (44633, 1),\n",
              " (52855, 1),\n",
              " (9929, 1),\n",
              " (47454, 1),\n",
              " (58445, 1),\n",
              " (1241, 1),\n",
              " (55115, 1),\n",
              " (56899, 1),\n",
              " (54905, 1),\n",
              " (55238, 1),\n",
              " (54234, 1),\n",
              " (6091, 1),\n",
              " (55582, 1),\n",
              " (39669, 1),\n",
              " (34748, 1),\n",
              " (8194, 1),\n",
              " (54756, 1),\n",
              " (55246, 1),\n",
              " (55289, 1),\n",
              " (5393, 1),\n",
              " (46707, 1),\n",
              " (36794, 1),\n",
              " (41803, 1),\n",
              " (60574, 1),\n",
              " (55240, 1),\n",
              " (57598, 1),\n",
              " (56233, 1),\n",
              " (35854, 1),\n",
              " (41985, 1),\n",
              " (44104, 1),\n",
              " (49797, 1),\n",
              " (57984, 1),\n",
              " (53009, 1),\n",
              " (51550, 1),\n",
              " (54038, 1),\n",
              " (6879, 1),\n",
              " (34260, 1),\n",
              " (48422, 1),\n",
              " (34766, 1),\n",
              " (58718, 1),\n",
              " (5405, 1),\n",
              " (44403, 1),\n",
              " (58543, 1),\n",
              " (54757, 1),\n",
              " (33298, 1),\n",
              " (54687, 1),\n",
              " (33232, 1),\n",
              " (57199, 1),\n",
              " ...]"
            ]
          },
          "metadata": {},
          "execution_count": 245
        }
      ]
    },
    {
      "cell_type": "code",
      "source": [
        "fig, axes = plt.subplots(1, 2, figsize=(15, 5))\n",
        "\n",
        "plt.subplot(1, 2, 1)\n",
        "drawDistributionGraph(data['Src_IP'], 'src IP', show=False)\n",
        "plt.subplot(1, 2, 2)\n",
        "drawDistributionGraph(data['Dst_IP'], 'dst IP', show=False)\n",
        "#plt.show()\n",
        "plt.savefig('IP_Distrib.pdf', format='pdf')"
      ],
      "metadata": {
        "colab": {
          "base_uri": "https://localhost:8080/",
          "height": 487
        },
        "id": "vFTw37NYI-Us",
        "outputId": "3938572d-3d98-4069-f771-85308a0c50e5"
      },
      "execution_count": null,
      "outputs": [
        {
          "output_type": "display_data",
          "data": {
            "text/plain": [
              "<Figure size 1500x500 with 2 Axes>"
            ],
            "image/png": "[encoded data removed]"
          },
          "metadata": {}
        }
      ]
    },
    {
      "cell_type": "code",
      "source": [
        "fig, axes = plt.subplots(1, 2, figsize=(15, 5))\n",
        "\n",
        "plt.subplot(1, 2, 1)\n",
        "drawDistributionGraph(data['Tot_Fwd_Pkts'], 'total forward packets', show=False)\n",
        "plt.subplot(1, 2, 2)\n",
        "drawDistributionGraph(data['Tot_Bwd_Pkts'], 'total backward packets', show=False)\n",
        "#plt.show()\n",
        "plt.savefig('Packet_Distrib.pdf', format='pdf')"
      ],
      "metadata": {
        "colab": {
          "base_uri": "https://localhost:8080/",
          "height": 487
        },
        "id": "UDW0oWlFLr1C",
        "outputId": "32521bc7-6248-441f-cd6a-e909c6a88ecb"
      },
      "execution_count": null,
      "outputs": [
        {
          "output_type": "display_data",
          "data": {
            "text/plain": [
              "<Figure size 1500x500 with 2 Axes>"
            ],
            "image/png": "[encoded data removed]"
          },
          "metadata": {}
        }
      ]
    }
  ]
}