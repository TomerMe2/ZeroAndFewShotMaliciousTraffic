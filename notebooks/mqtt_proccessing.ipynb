{
 "cells": [
  {
   "cell_type": "code",
   "execution_count": 10,
   "metadata": {},
   "outputs": [],
   "source": [
    "import os\n",
    "import pandas as pd\n",
    "import numpy as np"
   ]
  },
  {
   "cell_type": "code",
   "execution_count": 11,
   "metadata": {},
   "outputs": [],
   "source": [
    "def read_scanA():\n",
    "    df = pd.read_csv('../raw_data/packet_features/scan_A.csv')\n",
    "    print(df.head())"
   ]
  },
  {
   "cell_type": "code",
   "execution_count": 7,
   "metadata": {},
   "outputs": [
    {
     "name": "stdout",
     "output_type": "stream",
     "text": [
      "                     timestamp       src_ip       dst_ip protocol   ttl   \n",
      "0  02/14/2020, 14:24:29:741823    10.0.0.23  192.168.2.7     DATA  64.0  \\\n",
      "1  02/14/2020, 14:24:29:847585    10.0.0.16  192.168.1.7      TCP  64.0   \n",
      "2  02/14/2020, 14:24:29:847591    10.0.0.10  192.168.1.7      TCP  64.0   \n",
      "3  02/14/2020, 14:24:29:847952  192.168.1.7    10.0.0.16      TCP  63.0   \n",
      "4  02/14/2020, 14:24:29:847956  192.168.1.7    10.0.0.10      TCP  63.0   \n",
      "\n",
      "   ip_len  ip_flag_df  ip_flag_mf  ip_flag_rb  src_port  ...   \n",
      "0  1344.0         1.0         0.0         0.0     47103  ...  \\\n",
      "1    60.0         1.0         0.0         0.0     32968  ...   \n",
      "2    60.0         1.0         0.0         0.0     42990  ...   \n",
      "3    60.0         1.0         0.0         0.0      1883  ...   \n",
      "4    60.0         1.0         0.0         0.0      1883  ...   \n",
      "\n",
      "   mqtt_messagetype  mqtt_messagelength  mqtt_flag_uname  mqtt_flag_passwd   \n",
      "0               NaN                 NaN              NaN               NaN  \\\n",
      "1               NaN                 NaN              NaN               NaN   \n",
      "2               NaN                 NaN              NaN               NaN   \n",
      "3               NaN                 NaN              NaN               NaN   \n",
      "4               NaN                 NaN              NaN               NaN   \n",
      "\n",
      "   mqtt_flag_retain  mqtt_flag_qos  mqtt_flag_willflag  mqtt_flag_clean   \n",
      "0               NaN            NaN                 NaN              NaN  \\\n",
      "1               NaN            NaN                 NaN              NaN   \n",
      "2               NaN            NaN                 NaN              NaN   \n",
      "3               NaN            NaN                 NaN              NaN   \n",
      "4               NaN            NaN                 NaN              NaN   \n",
      "\n",
      "   mqtt_flag_reserved  is_attack  \n",
      "0                 NaN          0  \n",
      "1                 NaN          0  \n",
      "2                 NaN          0  \n",
      "3                 NaN          0  \n",
      "4                 NaN          0  \n",
      "\n",
      "[5 rows x 31 columns]\n"
     ]
    }
   ],
   "source": [
    "read_scanA()"
   ]
  },
  {
   "cell_type": "code",
   "execution_count": 12,
   "metadata": {},
   "outputs": [],
   "source": [
    "def combineCSVs():\n",
    "    directory = '../raw_data/packet_features'\n",
    "    NORMAL_LABEL = 'Normal'\n",
    "\n",
    "    dfs = []\n",
    "    \n",
    "    for file in os.listdir(directory):\n",
    "        filename = os.fsdecode(file)\n",
    "        attack = filename.split('.')[0]\n",
    "        print(filename)\n",
    "\n",
    "        df = pd.read_csv(os.path.join(directory, filename))\n",
    "        df = df.rename(columns={'is_attack': 'category'})\n",
    "        df['category'] = df['category'].replace({1: attack, 0: NORMAL_LABEL, '1': attack, '0': NORMAL_LABEL})\n",
    "\n",
    "        #for some resoun title repete within the files again...\n",
    "        df = df[df['timestamp'] != 'timestamp']\n",
    "\n",
    "        dfs.append(df)\n",
    "\n",
    "    result = pd.concat(dfs, ignore_index=True)\n",
    "    result.to_csv('../raw_data/mqtt.csv', encoding='utf-8', index=False)\n",
    "        "
   ]
  },
  {
   "cell_type": "code",
   "execution_count": 7,
   "metadata": {},
   "outputs": [
    {
     "name": "stdout",
     "output_type": "stream",
     "text": [
      "mqtt_bruteforce.csv\n"
     ]
    },
    {
     "name": "stderr",
     "output_type": "stream",
     "text": [
      "C:\\Users\\42spa\\AppData\\Local\\Temp\\ipykernel_18872\\3059347257.py:12: DtypeWarning: Columns (4,5,6,7,8,9,10,11,12,13,14,15,16,17,18,19,20,21,22,23,24,25,26,27,28,29,30) have mixed types. Specify dtype option on import or set low_memory=False.\n",
      "  df = pd.read_csv(os.path.join(directory, filename))\n"
     ]
    },
    {
     "name": "stdout",
     "output_type": "stream",
     "text": [
      "normal.csv\n"
     ]
    },
    {
     "name": "stderr",
     "output_type": "stream",
     "text": [
      "C:\\Users\\42spa\\AppData\\Local\\Temp\\ipykernel_18872\\3059347257.py:12: DtypeWarning: Columns (4,5,6,7,8,9,10,11,12,13,14,15,16,17,18,19,20,21,22,23,24,25,26,27,28,29,30) have mixed types. Specify dtype option on import or set low_memory=False.\n",
      "  df = pd.read_csv(os.path.join(directory, filename))\n"
     ]
    },
    {
     "name": "stdout",
     "output_type": "stream",
     "text": [
      "scan_A.csv\n",
      "scan_sU.csv\n",
      "sparta.csv\n"
     ]
    },
    {
     "name": "stderr",
     "output_type": "stream",
     "text": [
      "C:\\Users\\42spa\\AppData\\Local\\Temp\\ipykernel_18872\\3059347257.py:12: DtypeWarning: Columns (4,5,6,7,8,9,10,11,12,13,14,15,16,17,18,19,20,21,22,23,24,25,26,27,28,29,30) have mixed types. Specify dtype option on import or set low_memory=False.\n",
      "  df = pd.read_csv(os.path.join(directory, filename))\n"
     ]
    }
   ],
   "source": [
    "combineCSVs()"
   ]
  },
  {
   "cell_type": "code",
   "execution_count": 13,
   "metadata": {},
   "outputs": [],
   "source": [
    "def emptyColumns():\n",
    "    mqtt = pd.read_csv('../raw_data/mqtt.csv')\n",
    "    nan_percentages = (mqtt.isna().sum() / len(mqtt)) * 100\n",
    "\n",
    "    print(nan_percentages)"
   ]
  },
  {
   "cell_type": "code",
   "execution_count": 21,
   "metadata": {},
   "outputs": [
    {
     "name": "stderr",
     "output_type": "stream",
     "text": [
      "C:\\Users\\42spa\\AppData\\Local\\Temp\\ipykernel_18556\\3546976786.py:2: DtypeWarning: Columns (4,5,6,7,8,9,10,11,12,13,14,15,16,17,18,19,20,21,22,23,24,25,26,27,28,29) have mixed types. Specify dtype option on import or set low_memory=False.\n",
      "  mqtt = pd.read_csv('../raw_data/mqtt.csv')\n"
     ]
    },
    {
     "name": "stdout",
     "output_type": "stream",
     "text": [
      "timestamp              0.000000\n",
      "src_ip                 0.000028\n",
      "dst_ip                 0.000028\n",
      "protocol               0.000000\n",
      "ttl                    0.000028\n",
      "ip_len                 0.000028\n",
      "ip_flag_df             0.000028\n",
      "ip_flag_mf             0.000028\n",
      "ip_flag_rb             0.000028\n",
      "src_port               0.000000\n",
      "dst_port               0.000000\n",
      "tcp_flag_res           0.785257\n",
      "tcp_flag_ns            0.785257\n",
      "tcp_flag_cwr           0.785257\n",
      "tcp_flag_ecn           0.785257\n",
      "tcp_flag_urg           0.785257\n",
      "tcp_flag_ack           0.785257\n",
      "tcp_flag_push          0.785257\n",
      "tcp_flag_reset         0.785257\n",
      "tcp_flag_syn           0.785257\n",
      "tcp_flag_fin           0.785257\n",
      "mqtt_messagetype      91.623302\n",
      "mqtt_messagelength    91.623302\n",
      "mqtt_flag_uname       96.349453\n",
      "mqtt_flag_passwd      96.349453\n",
      "mqtt_flag_retain      96.349453\n",
      "mqtt_flag_qos         96.349453\n",
      "mqtt_flag_willflag    96.349453\n",
      "mqtt_flag_clean       96.349453\n",
      "mqtt_flag_reserved    96.349453\n",
      "category               0.000000\n",
      "dtype: float64\n"
     ]
    }
   ],
   "source": [
    "emptyColumns()"
   ]
  },
  {
   "cell_type": "code",
   "execution_count": 14,
   "metadata": {},
   "outputs": [],
   "source": [
    "def onlyFullRows():\n",
    "    mqtt = pd.read_csv('../raw_data/mqtt.csv')\n",
    "    mqtt = mqtt[~mqtt.isna().any(axis=1)]\n",
    "\n",
    "    print(len(mqtt))\n",
    "    mqtt.to_csv('../raw_data/mqtt_fullrows.csv', encoding='utf-8', index=False)"
   ]
  },
  {
   "cell_type": "code",
   "execution_count": 9,
   "metadata": {},
   "outputs": [
    {
     "name": "stdout",
     "output_type": "stream",
     "text": [
      "1172610\n"
     ]
    }
   ],
   "source": [
    "onlyFullRows()"
   ]
  },
  {
   "cell_type": "code",
   "execution_count": 15,
   "metadata": {},
   "outputs": [],
   "source": [
    "def preProcess():\n",
    "    combineCSVs()\n",
    "    onlyFullRows()"
   ]
  },
  {
   "cell_type": "code",
   "execution_count": 16,
   "metadata": {},
   "outputs": [
    {
     "name": "stdout",
     "output_type": "stream",
     "text": [
      "mqtt_bruteforce.csv\n"
     ]
    },
    {
     "name": "stderr",
     "output_type": "stream",
     "text": [
      "C:\\Users\\42spa\\AppData\\Local\\Temp\\ipykernel_18872\\1877246104.py:12: DtypeWarning: Columns (4,5,6,7,8,9,10,11,12,13,14,15,16,17,18,19,20,21,22,23,24,25,26,27,28,29,30) have mixed types. Specify dtype option on import or set low_memory=False.\n",
      "  df = pd.read_csv(os.path.join(directory, filename))\n"
     ]
    },
    {
     "name": "stdout",
     "output_type": "stream",
     "text": [
      "normal.csv\n"
     ]
    },
    {
     "name": "stderr",
     "output_type": "stream",
     "text": [
      "C:\\Users\\42spa\\AppData\\Local\\Temp\\ipykernel_18872\\1877246104.py:12: DtypeWarning: Columns (4,5,6,7,8,9,10,11,12,13,14,15,16,17,18,19,20,21,22,23,24,25,26,27,28,29,30) have mixed types. Specify dtype option on import or set low_memory=False.\n",
      "  df = pd.read_csv(os.path.join(directory, filename))\n"
     ]
    },
    {
     "name": "stdout",
     "output_type": "stream",
     "text": [
      "scan_A.csv\n",
      "scan_sU.csv\n",
      "sparta.csv\n"
     ]
    },
    {
     "name": "stderr",
     "output_type": "stream",
     "text": [
      "C:\\Users\\42spa\\AppData\\Local\\Temp\\ipykernel_18872\\1877246104.py:12: DtypeWarning: Columns (4,5,6,7,8,9,10,11,12,13,14,15,16,17,18,19,20,21,22,23,24,25,26,27,28,29,30) have mixed types. Specify dtype option on import or set low_memory=False.\n",
      "  df = pd.read_csv(os.path.join(directory, filename))\n"
     ]
    },
    {
     "name": "stdout",
     "output_type": "stream",
     "text": [
      "1172610\n"
     ]
    }
   ],
   "source": [
    "preProcess()"
   ]
  }
 ],
 "metadata": {
  "kernelspec": {
   "display_name": ".venv",
   "language": "python",
   "name": "python3"
  },
  "language_info": {
   "codemirror_mode": {
    "name": "ipython",
    "version": 3
   },
   "file_extension": ".py",
   "mimetype": "text/x-python",
   "name": "python",
   "nbconvert_exporter": "python",
   "pygments_lexer": "ipython3",
   "version": "3.10.11"
  },
  "orig_nbformat": 4
 },
 "nbformat": 4,
 "nbformat_minor": 2
}
