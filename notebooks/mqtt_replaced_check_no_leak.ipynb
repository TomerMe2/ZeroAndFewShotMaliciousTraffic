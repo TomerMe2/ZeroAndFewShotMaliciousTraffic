{
 "cells": [
  {
   "cell_type": "code",
   "execution_count": 1,
   "metadata": {},
   "outputs": [],
   "source": [
    "import sys\n",
    "sys.path.insert(0, '../')"
   ]
  },
  {
   "cell_type": "code",
   "execution_count": 2,
   "metadata": {},
   "outputs": [],
   "source": [
    "from sklearn.ensemble import RandomForestClassifier\n",
    "from sklearn.metrics import accuracy_score\n",
    "import numpy as np\n",
    "from sklearn.dummy import DummyClassifier\n",
    "\n",
    "from datasets.mqtt_dataset import MqttDataset"
   ]
  },
  {
   "cell_type": "code",
   "execution_count": 4,
   "metadata": {},
   "outputs": [],
   "source": [
    "train_dataset = MqttDataset(\"../raw_data/mqtt_replaced.csv\", is_train=True, include_malicious_traffic=False, lbl_is_src_ip=True)\n",
    "test_dataset = MqttDataset(\"../raw_data/mqtt_replaced.csv\", is_train=False, include_malicious_traffic=False, lbl_is_src_ip=True)"
   ]
  },
  {
   "cell_type": "code",
   "execution_count": 5,
   "metadata": {},
   "outputs": [],
   "source": [
    "X_train, y_train = train_dataset.X, train_dataset.y\n",
    "X_test, y_test = test_dataset.X, test_dataset.y"
   ]
  },
  {
   "cell_type": "code",
   "execution_count": 6,
   "metadata": {},
   "outputs": [],
   "source": [
    "def anlyse(X_train, y_train, X_test, y_test, importanceTH=0.1):\n",
    "    clf = RandomForestClassifier(n_jobs=80, random_state=42)\n",
    "    clf.fit(X_train, y_train)\n",
    "    y_pred = clf.predict(X_test)\n",
    "    print(f'accuracy_score :{accuracy_score(y_test, y_pred)}')\n",
    "\n",
    "    print('feature importance :', sorted(clf.feature_importances_.tolist(), reverse=True)[:5])\n",
    "    print('importent features :', np.where(clf.feature_importances_ > 0.1)[0])\n",
    "\n",
    "    dummy(X_train, y_train, X_test, y_test)\n",
    "\n",
    "    for col in np.where(clf.feature_importances_ > 0.1)[0]:\n",
    "        print(train_dataset.clms[col])\n",
    "\n",
    "\n",
    "def dummy(X_train, y_train, X_test, y_test):\n",
    "    dummy = DummyClassifier()\n",
    "    dummy.fit(X_train, y_train)\n",
    "    y_pred = dummy.predict(X_test)\n",
    "    print(f'dummy accurcy : {accuracy_score(y_test, y_pred)}')\n",
    "\n",
    "\n",
    "\n",
    "\n",
    "def dropColums(X_train, X_test, colums):\n",
    "    for col in colums:\n",
    "        X_train = np.hstack([X_train[:, :col], X_train[:, (col+1):]])\n",
    "        X_test = np.hstack([X_test[:, :col], X_test[:, (col+1):]])\n",
    "\n",
    "    return X_train, X_test\n",
    "\n",
    "        "
   ]
  },
  {
   "cell_type": "code",
   "execution_count": 7,
   "metadata": {},
   "outputs": [
    {
     "name": "stdout",
     "output_type": "stream",
     "text": [
      "accuracy_score :0.5310963899618065\n",
      "feature importance : [0.28127233248736794, 0.1857841589404959, 0.130457107229879, 0.07767372877662693, 0.06159847386383651]\n",
      "importent features : [1 8 9]\n",
      "dummy accurcy : 0.37210150400276204\n",
      "ttl\n",
      "tcp_flag_res\n",
      "tcp_flag_ns\n"
     ]
    }
   ],
   "source": [
    "anlyse(X_train, y_train, X_test, y_test)"
   ]
  }
 ],
 "metadata": {
  "kernelspec": {
   "display_name": ".venv",
   "language": "python",
   "name": "python3"
  },
  "language_info": {
   "codemirror_mode": {
    "name": "ipython",
    "version": 3
   },
   "file_extension": ".py",
   "mimetype": "text/x-python",
   "name": "python",
   "nbconvert_exporter": "python",
   "pygments_lexer": "ipython3",
   "version": "3.10.11"
  },
  "orig_nbformat": 4
 },
 "nbformat": 4,
 "nbformat_minor": 2
}
